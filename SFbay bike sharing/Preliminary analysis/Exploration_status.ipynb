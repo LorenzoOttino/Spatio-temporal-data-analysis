{
 "cells": [
  {
   "cell_type": "code",
   "execution_count": 1,
   "id": "moral-prototype",
   "metadata": {},
   "outputs": [
    {
     "name": "stderr",
     "output_type": "stream",
     "text": [
      "\n",
      "Bad key \"text.kerning_factor\" on line 4 in\n",
      "/opt/anaconda3/envs/bigdatalab_cpu_202101/lib/python3.7/site-packages/matplotlib/mpl-data/stylelib/_classic_test_patch.mplstyle.\n",
      "You probably need to get an updated matplotlibrc file from\n",
      "https://github.com/matplotlib/matplotlib/blob/v3.1.2/matplotlibrc.template\n",
      "or from the matplotlib source distribution\n"
     ]
    }
   ],
   "source": [
    "import pandas as pd\n",
    "import os\n",
    "import numpy as np\n",
    "from datetime import datetime, timedelta\n",
    "import matplotlib.pyplot as plt\n",
    "import time"
   ]
  },
  {
   "cell_type": "code",
   "execution_count": null,
   "id": "european-romania",
   "metadata": {},
   "outputs": [],
   "source": [
    "status_df = pd.read_csv(\"../../Data/filtered_status.csv\", parse_dates=['time'])"
   ]
  },
  {
   "cell_type": "code",
   "execution_count": 3,
   "id": "roman-musician",
   "metadata": {},
   "outputs": [
    {
     "data": {
      "text/html": [
       "<div>\n",
       "<style scoped>\n",
       "    .dataframe tbody tr th:only-of-type {\n",
       "        vertical-align: middle;\n",
       "    }\n",
       "\n",
       "    .dataframe tbody tr th {\n",
       "        vertical-align: top;\n",
       "    }\n",
       "\n",
       "    .dataframe thead th {\n",
       "        text-align: right;\n",
       "    }\n",
       "</style>\n",
       "<table border=\"1\" class=\"dataframe\">\n",
       "  <thead>\n",
       "    <tr style=\"text-align: right;\">\n",
       "      <th></th>\n",
       "      <th>station_id</th>\n",
       "      <th>bikes_available</th>\n",
       "      <th>docks_available</th>\n",
       "      <th>time</th>\n",
       "    </tr>\n",
       "  </thead>\n",
       "  <tbody>\n",
       "    <tr>\n",
       "      <th>0</th>\n",
       "      <td>2</td>\n",
       "      <td>2</td>\n",
       "      <td>25</td>\n",
       "      <td>2013-08-29 12:06:01</td>\n",
       "    </tr>\n",
       "    <tr>\n",
       "      <th>1</th>\n",
       "      <td>2</td>\n",
       "      <td>2</td>\n",
       "      <td>25</td>\n",
       "      <td>2013-08-29 12:07:01</td>\n",
       "    </tr>\n",
       "    <tr>\n",
       "      <th>2</th>\n",
       "      <td>2</td>\n",
       "      <td>2</td>\n",
       "      <td>25</td>\n",
       "      <td>2013-08-29 12:08:01</td>\n",
       "    </tr>\n",
       "    <tr>\n",
       "      <th>3</th>\n",
       "      <td>2</td>\n",
       "      <td>2</td>\n",
       "      <td>25</td>\n",
       "      <td>2013-08-29 12:09:01</td>\n",
       "    </tr>\n",
       "    <tr>\n",
       "      <th>4</th>\n",
       "      <td>2</td>\n",
       "      <td>2</td>\n",
       "      <td>25</td>\n",
       "      <td>2013-08-29 12:10:01</td>\n",
       "    </tr>\n",
       "    <tr>\n",
       "      <th>...</th>\n",
       "      <td>...</td>\n",
       "      <td>...</td>\n",
       "      <td>...</td>\n",
       "      <td>...</td>\n",
       "    </tr>\n",
       "    <tr>\n",
       "      <th>71977905</th>\n",
       "      <td>84</td>\n",
       "      <td>8</td>\n",
       "      <td>7</td>\n",
       "      <td>2015-08-31 23:55:02</td>\n",
       "    </tr>\n",
       "    <tr>\n",
       "      <th>71977906</th>\n",
       "      <td>84</td>\n",
       "      <td>8</td>\n",
       "      <td>7</td>\n",
       "      <td>2015-08-31 23:56:01</td>\n",
       "    </tr>\n",
       "    <tr>\n",
       "      <th>71977907</th>\n",
       "      <td>84</td>\n",
       "      <td>8</td>\n",
       "      <td>7</td>\n",
       "      <td>2015-08-31 23:57:02</td>\n",
       "    </tr>\n",
       "    <tr>\n",
       "      <th>71977908</th>\n",
       "      <td>84</td>\n",
       "      <td>8</td>\n",
       "      <td>7</td>\n",
       "      <td>2015-08-31 23:58:02</td>\n",
       "    </tr>\n",
       "    <tr>\n",
       "      <th>71977909</th>\n",
       "      <td>84</td>\n",
       "      <td>8</td>\n",
       "      <td>7</td>\n",
       "      <td>2015-08-31 23:59:02</td>\n",
       "    </tr>\n",
       "  </tbody>\n",
       "</table>\n",
       "<p>71977910 rows × 4 columns</p>\n",
       "</div>"
      ],
      "text/plain": [
       "          station_id  bikes_available  docks_available                time\n",
       "0                  2                2               25 2013-08-29 12:06:01\n",
       "1                  2                2               25 2013-08-29 12:07:01\n",
       "2                  2                2               25 2013-08-29 12:08:01\n",
       "3                  2                2               25 2013-08-29 12:09:01\n",
       "4                  2                2               25 2013-08-29 12:10:01\n",
       "...              ...              ...              ...                 ...\n",
       "71977905          84                8                7 2015-08-31 23:55:02\n",
       "71977906          84                8                7 2015-08-31 23:56:01\n",
       "71977907          84                8                7 2015-08-31 23:57:02\n",
       "71977908          84                8                7 2015-08-31 23:58:02\n",
       "71977909          84                8                7 2015-08-31 23:59:02\n",
       "\n",
       "[71977910 rows x 4 columns]"
      ]
     },
     "execution_count": 3,
     "metadata": {},
     "output_type": "execute_result"
    }
   ],
   "source": [
    "status_df"
   ]
  },
  {
   "cell_type": "code",
   "execution_count": 4,
   "id": "martial-position",
   "metadata": {},
   "outputs": [
    {
     "name": "stdout",
     "output_type": "stream",
     "text": [
      "<class 'pandas.core.frame.DataFrame'>\n",
      "RangeIndex: 71977910 entries, 0 to 71977909\n",
      "Data columns (total 4 columns):\n",
      " #   Column           Dtype         \n",
      "---  ------           -----         \n",
      " 0   station_id       int64         \n",
      " 1   bikes_available  int64         \n",
      " 2   docks_available  int64         \n",
      " 3   time             datetime64[ns]\n",
      "dtypes: datetime64[ns](1), int64(3)\n",
      "memory usage: 2.1 GB\n"
     ]
    }
   ],
   "source": [
    "status_df.info(verbose=True)"
   ]
  },
  {
   "cell_type": "code",
   "execution_count": 4,
   "id": "persistent-germany",
   "metadata": {},
   "outputs": [
    {
     "data": {
      "text/plain": [
       "Timestamp('2013-08-29 12:06:01')"
      ]
     },
     "execution_count": 4,
     "metadata": {},
     "output_type": "execute_result"
    }
   ],
   "source": [
    "# time of the first record\n",
    "min(status_df['time'])"
   ]
  },
  {
   "cell_type": "code",
   "execution_count": 3,
   "id": "outdoor-reader",
   "metadata": {},
   "outputs": [],
   "source": [
    "# add day column to the dataframe\n",
    "status_df['day'] = status_df['time'].dt.date"
   ]
  },
  {
   "cell_type": "code",
   "execution_count": 26,
   "id": "through-benchmark",
   "metadata": {},
   "outputs": [],
   "source": [
    "# calculate how often stations are (almost) empty/full\n",
    "\n",
    "for ID in [70, 76, 34, 72, 75, 69, 50, 60, 73, 82, 84]: #arbitrary set of stations\n",
    "    IDdf = status_df[status_df['station_id']==ID]\n",
    "\n",
    "    length = []\n",
    "    full = []\n",
    "    almost_full = []\n",
    "    normal = []\n",
    "    almost_empty = []\n",
    "    empty = []\n",
    "\n",
    "    for group, df in IDdf.groupby('day'):\n",
    "        length.append(len(df))\n",
    "        full.append(len(df[df['docks_available'] == 0]))\n",
    "        almost_full.append(len(df[df['docks_available'] <= 3]))\n",
    "        mask = (df['docks_available'] <= 3) | (df['bikes_available'] <= 3)\n",
    "        normal.append(len(df[~mask]))\n",
    "        almost_empty.append(len(df[df['bikes_available'] <= 3]))\n",
    "        empty.append(len(df[df['bikes_available'] == 0]))\n",
    "\n",
    "    length = np.array(length)\n",
    "    full = np.array(full)\n",
    "    almost_full = np.array(almost_full)\n",
    "    normal = np.array(normal)\n",
    "    almost_empty = np.array(almost_empty)\n",
    "    empty = np.array(empty)\n",
    "\n",
    "    plt.figure(figsize=(10, 6))\n",
    "\n",
    "    bars = [np.mean(full/length*100), np.mean(almost_full/length*100), np.mean(normal/length*100), np.mean(almost_empty/length*100), np.mean(empty/length*100)]\n",
    "    names = ['full', 'almost_full', 'normal', 'almost_empty', 'empty']\n",
    "\n",
    "    plt.bar(names, bars)\n",
    "    plt.ylabel('Percentage of time')\n",
    "\n",
    "    if not os.path.exists(f\"../../Results/Occupation/\"):\n",
    "        os.makedirs(f\"../../Results/Occupation/\")\n",
    "    plt.savefig(f\"../../Results/Occupation/Station_{ID}.jpg\", bbox_inches='tight')\n",
    "    plt.close()"
   ]
  },
  {
   "cell_type": "markdown",
   "id": "copyrighted-finland",
   "metadata": {},
   "source": [
    "# Count sequences [full, increase] -> [AlmostFull]"
   ]
  },
  {
   "cell_type": "code",
   "execution_count": 3,
   "id": "driving-looking",
   "metadata": {},
   "outputs": [],
   "source": [
    "interval = 15\n",
    "\n",
    "status_df[\"window\"] = np.array(status_df['time'].values, dtype=f'datetime64[{interval}m]')"
   ]
  },
  {
   "cell_type": "code",
   "execution_count": 4,
   "id": "theoretical-colonial",
   "metadata": {},
   "outputs": [],
   "source": [
    "interest_df = status_df[status_df.docks_available < 7]"
   ]
  },
  {
   "cell_type": "code",
   "execution_count": 8,
   "id": "defensive-container",
   "metadata": {},
   "outputs": [
    {
     "data": {
      "text/html": [
       "<div>\n",
       "<style scoped>\n",
       "    .dataframe tbody tr th:only-of-type {\n",
       "        vertical-align: middle;\n",
       "    }\n",
       "\n",
       "    .dataframe tbody tr th {\n",
       "        vertical-align: top;\n",
       "    }\n",
       "\n",
       "    .dataframe thead th {\n",
       "        text-align: right;\n",
       "    }\n",
       "</style>\n",
       "<table border=\"1\" class=\"dataframe\">\n",
       "  <thead>\n",
       "    <tr style=\"text-align: right;\">\n",
       "      <th></th>\n",
       "      <th>station_id</th>\n",
       "      <th>bikes_available</th>\n",
       "      <th>docks_available</th>\n",
       "      <th>time</th>\n",
       "      <th>window</th>\n",
       "    </tr>\n",
       "  </thead>\n",
       "  <tbody>\n",
       "    <tr>\n",
       "      <th>10816</th>\n",
       "      <td>2</td>\n",
       "      <td>21</td>\n",
       "      <td>6</td>\n",
       "      <td>2013-09-06 21:16:01</td>\n",
       "      <td>1972-11-29 15:49:00</td>\n",
       "    </tr>\n",
       "    <tr>\n",
       "      <th>10817</th>\n",
       "      <td>2</td>\n",
       "      <td>21</td>\n",
       "      <td>6</td>\n",
       "      <td>2013-09-06 21:17:01</td>\n",
       "      <td>1972-11-29 15:49:00</td>\n",
       "    </tr>\n",
       "    <tr>\n",
       "      <th>10818</th>\n",
       "      <td>2</td>\n",
       "      <td>21</td>\n",
       "      <td>6</td>\n",
       "      <td>2013-09-06 21:18:01</td>\n",
       "      <td>1972-11-29 15:49:00</td>\n",
       "    </tr>\n",
       "    <tr>\n",
       "      <th>10819</th>\n",
       "      <td>2</td>\n",
       "      <td>21</td>\n",
       "      <td>6</td>\n",
       "      <td>2013-09-06 21:19:02</td>\n",
       "      <td>1972-11-29 15:49:00</td>\n",
       "    </tr>\n",
       "    <tr>\n",
       "      <th>10820</th>\n",
       "      <td>2</td>\n",
       "      <td>21</td>\n",
       "      <td>6</td>\n",
       "      <td>2013-09-06 21:20:02</td>\n",
       "      <td>1972-11-29 15:49:00</td>\n",
       "    </tr>\n",
       "    <tr>\n",
       "      <th>...</th>\n",
       "      <td>...</td>\n",
       "      <td>...</td>\n",
       "      <td>...</td>\n",
       "      <td>...</td>\n",
       "      <td>...</td>\n",
       "    </tr>\n",
       "    <tr>\n",
       "      <th>71976999</th>\n",
       "      <td>84</td>\n",
       "      <td>9</td>\n",
       "      <td>6</td>\n",
       "      <td>2015-08-31 08:49:02</td>\n",
       "      <td>1973-01-16 21:23:00</td>\n",
       "    </tr>\n",
       "    <tr>\n",
       "      <th>71977000</th>\n",
       "      <td>84</td>\n",
       "      <td>9</td>\n",
       "      <td>6</td>\n",
       "      <td>2015-08-31 08:50:02</td>\n",
       "      <td>1973-01-16 21:23:00</td>\n",
       "    </tr>\n",
       "    <tr>\n",
       "      <th>71977001</th>\n",
       "      <td>84</td>\n",
       "      <td>9</td>\n",
       "      <td>6</td>\n",
       "      <td>2015-08-31 08:51:02</td>\n",
       "      <td>1973-01-16 21:23:00</td>\n",
       "    </tr>\n",
       "    <tr>\n",
       "      <th>71977002</th>\n",
       "      <td>84</td>\n",
       "      <td>9</td>\n",
       "      <td>6</td>\n",
       "      <td>2015-08-31 08:52:02</td>\n",
       "      <td>1973-01-16 21:23:00</td>\n",
       "    </tr>\n",
       "    <tr>\n",
       "      <th>71977003</th>\n",
       "      <td>84</td>\n",
       "      <td>9</td>\n",
       "      <td>6</td>\n",
       "      <td>2015-08-31 08:53:02</td>\n",
       "      <td>1973-01-16 21:23:00</td>\n",
       "    </tr>\n",
       "  </tbody>\n",
       "</table>\n",
       "<p>18470812 rows × 5 columns</p>\n",
       "</div>"
      ],
      "text/plain": [
       "          station_id  bikes_available  docks_available                time  \\\n",
       "10816              2               21                6 2013-09-06 21:16:01   \n",
       "10817              2               21                6 2013-09-06 21:17:01   \n",
       "10818              2               21                6 2013-09-06 21:18:01   \n",
       "10819              2               21                6 2013-09-06 21:19:02   \n",
       "10820              2               21                6 2013-09-06 21:20:02   \n",
       "...              ...              ...              ...                 ...   \n",
       "71976999          84                9                6 2015-08-31 08:49:02   \n",
       "71977000          84                9                6 2015-08-31 08:50:02   \n",
       "71977001          84                9                6 2015-08-31 08:51:02   \n",
       "71977002          84                9                6 2015-08-31 08:52:02   \n",
       "71977003          84                9                6 2015-08-31 08:53:02   \n",
       "\n",
       "                      window  \n",
       "10816    1972-11-29 15:49:00  \n",
       "10817    1972-11-29 15:49:00  \n",
       "10818    1972-11-29 15:49:00  \n",
       "10819    1972-11-29 15:49:00  \n",
       "10820    1972-11-29 15:49:00  \n",
       "...                      ...  \n",
       "71976999 1973-01-16 21:23:00  \n",
       "71977000 1973-01-16 21:23:00  \n",
       "71977001 1973-01-16 21:23:00  \n",
       "71977002 1973-01-16 21:23:00  \n",
       "71977003 1973-01-16 21:23:00  \n",
       "\n",
       "[18470812 rows x 5 columns]"
      ]
     },
     "execution_count": 8,
     "metadata": {},
     "output_type": "execute_result"
    }
   ],
   "source": [
    "interest_df"
   ]
  },
  {
   "cell_type": "code",
   "execution_count": 23,
   "id": "reflected-server",
   "metadata": {},
   "outputs": [
    {
     "data": {
      "text/plain": [
       "60"
      ]
     },
     "execution_count": 23,
     "metadata": {},
     "output_type": "execute_result"
    }
   ],
   "source": [
    "(interest_df['window'].iloc[15] - interest_df['window'].iloc[1]).seconds"
   ]
  },
  {
   "cell_type": "code",
   "execution_count": 29,
   "id": "exciting-terrorist",
   "metadata": {
    "collapsed": true,
    "jupyter": {
     "outputs_hidden": true
    }
   },
   "outputs": [
    {
     "ename": "KeyboardInterrupt",
     "evalue": "",
     "output_type": "error",
     "traceback": [
      "\u001b[0;31m---------------------------------------------------------------------------\u001b[0m",
      "\u001b[0;31mKeyboardInterrupt\u001b[0m                         Traceback (most recent call last)",
      "\u001b[0;32m<ipython-input-29-64ec9eed2224>\u001b[0m in \u001b[0;36m<module>\u001b[0;34m\u001b[0m\n\u001b[1;32m      8\u001b[0m     \u001b[0mhasIncrease\u001b[0m \u001b[0;34m=\u001b[0m \u001b[0;32mFalse\u001b[0m\u001b[0;34m\u001b[0m\u001b[0;34m\u001b[0m\u001b[0m\n\u001b[1;32m      9\u001b[0m \u001b[0;34m\u001b[0m\u001b[0m\n\u001b[0;32m---> 10\u001b[0;31m     \u001b[0;32mif\u001b[0m \u001b[0mlen\u001b[0m\u001b[0;34m(\u001b[0m\u001b[0mdf\u001b[0m\u001b[0;34m[\u001b[0m\u001b[0mdf\u001b[0m\u001b[0;34m.\u001b[0m\u001b[0mdocks_available\u001b[0m\u001b[0;34m==\u001b[0m\u001b[0;36m0\u001b[0m\u001b[0;34m]\u001b[0m\u001b[0;34m)\u001b[0m \u001b[0;34m>\u001b[0m \u001b[0;36m0\u001b[0m\u001b[0;34m:\u001b[0m\u001b[0;34m\u001b[0m\u001b[0;34m\u001b[0m\u001b[0m\n\u001b[0m\u001b[1;32m     11\u001b[0m         \u001b[0mhasFull\u001b[0m\u001b[0;34m=\u001b[0m\u001b[0;32mTrue\u001b[0m\u001b[0;34m\u001b[0m\u001b[0;34m\u001b[0m\u001b[0m\n\u001b[1;32m     12\u001b[0m     \u001b[0;32mif\u001b[0m \u001b[0mlen\u001b[0m\u001b[0;34m(\u001b[0m\u001b[0mdf\u001b[0m\u001b[0;34m[\u001b[0m\u001b[0;34m(\u001b[0m\u001b[0mdf\u001b[0m\u001b[0;34m.\u001b[0m\u001b[0mdocks_available\u001b[0m \u001b[0;34m<\u001b[0m \u001b[0;36m3\u001b[0m\u001b[0;34m)\u001b[0m \u001b[0;34m&\u001b[0m \u001b[0;34m(\u001b[0m\u001b[0mdf\u001b[0m\u001b[0;34m.\u001b[0m\u001b[0mdocks_available\u001b[0m\u001b[0;34m>\u001b[0m\u001b[0;36m0\u001b[0m\u001b[0;34m)\u001b[0m\u001b[0;34m]\u001b[0m\u001b[0;34m)\u001b[0m \u001b[0;34m>\u001b[0m \u001b[0;36m0\u001b[0m\u001b[0;34m:\u001b[0m\u001b[0;34m\u001b[0m\u001b[0;34m\u001b[0m\u001b[0m\n",
      "\u001b[0;32m/opt/anaconda3/envs/bigdatalab_cpu_202101/lib/python3.7/site-packages/pandas/core/ops/common.py\u001b[0m in \u001b[0;36mnew_method\u001b[0;34m(self, other)\u001b[0m\n\u001b[1;32m     63\u001b[0m         \u001b[0mother\u001b[0m \u001b[0;34m=\u001b[0m \u001b[0mitem_from_zerodim\u001b[0m\u001b[0;34m(\u001b[0m\u001b[0mother\u001b[0m\u001b[0;34m)\u001b[0m\u001b[0;34m\u001b[0m\u001b[0;34m\u001b[0m\u001b[0m\n\u001b[1;32m     64\u001b[0m \u001b[0;34m\u001b[0m\u001b[0m\n\u001b[0;32m---> 65\u001b[0;31m         \u001b[0;32mreturn\u001b[0m \u001b[0mmethod\u001b[0m\u001b[0;34m(\u001b[0m\u001b[0mself\u001b[0m\u001b[0;34m,\u001b[0m \u001b[0mother\u001b[0m\u001b[0;34m)\u001b[0m\u001b[0;34m\u001b[0m\u001b[0;34m\u001b[0m\u001b[0m\n\u001b[0m\u001b[1;32m     66\u001b[0m \u001b[0;34m\u001b[0m\u001b[0m\n\u001b[1;32m     67\u001b[0m     \u001b[0;32mreturn\u001b[0m \u001b[0mnew_method\u001b[0m\u001b[0;34m\u001b[0m\u001b[0;34m\u001b[0m\u001b[0m\n",
      "\u001b[0;32m/opt/anaconda3/envs/bigdatalab_cpu_202101/lib/python3.7/site-packages/pandas/core/ops/__init__.py\u001b[0m in \u001b[0;36mwrapper\u001b[0;34m(self, other)\u001b[0m\n\u001b[1;32m    370\u001b[0m         \u001b[0mres_values\u001b[0m \u001b[0;34m=\u001b[0m \u001b[0mcomparison_op\u001b[0m\u001b[0;34m(\u001b[0m\u001b[0mlvalues\u001b[0m\u001b[0;34m,\u001b[0m \u001b[0mrvalues\u001b[0m\u001b[0;34m,\u001b[0m \u001b[0mop\u001b[0m\u001b[0;34m)\u001b[0m\u001b[0;34m\u001b[0m\u001b[0;34m\u001b[0m\u001b[0m\n\u001b[1;32m    371\u001b[0m \u001b[0;34m\u001b[0m\u001b[0m\n\u001b[0;32m--> 372\u001b[0;31m         \u001b[0;32mreturn\u001b[0m \u001b[0mself\u001b[0m\u001b[0;34m.\u001b[0m\u001b[0m_construct_result\u001b[0m\u001b[0;34m(\u001b[0m\u001b[0mres_values\u001b[0m\u001b[0;34m,\u001b[0m \u001b[0mname\u001b[0m\u001b[0;34m=\u001b[0m\u001b[0mres_name\u001b[0m\u001b[0;34m)\u001b[0m\u001b[0;34m\u001b[0m\u001b[0;34m\u001b[0m\u001b[0m\n\u001b[0m\u001b[1;32m    373\u001b[0m \u001b[0;34m\u001b[0m\u001b[0m\n\u001b[1;32m    374\u001b[0m     \u001b[0mwrapper\u001b[0m\u001b[0;34m.\u001b[0m\u001b[0m__name__\u001b[0m \u001b[0;34m=\u001b[0m \u001b[0mop_name\u001b[0m\u001b[0;34m\u001b[0m\u001b[0;34m\u001b[0m\u001b[0m\n",
      "\u001b[0;32m/opt/anaconda3/envs/bigdatalab_cpu_202101/lib/python3.7/site-packages/pandas/core/series.py\u001b[0m in \u001b[0;36m_construct_result\u001b[0;34m(self, result, name)\u001b[0m\n\u001b[1;32m   2755\u001b[0m         \u001b[0;31m# We do not pass dtype to ensure that the Series constructor\u001b[0m\u001b[0;34m\u001b[0m\u001b[0;34m\u001b[0m\u001b[0;34m\u001b[0m\u001b[0m\n\u001b[1;32m   2756\u001b[0m         \u001b[0;31m#  does inference in the case where `result` has object-dtype.\u001b[0m\u001b[0;34m\u001b[0m\u001b[0;34m\u001b[0m\u001b[0;34m\u001b[0m\u001b[0m\n\u001b[0;32m-> 2757\u001b[0;31m         \u001b[0mout\u001b[0m \u001b[0;34m=\u001b[0m \u001b[0mself\u001b[0m\u001b[0;34m.\u001b[0m\u001b[0m_constructor\u001b[0m\u001b[0;34m(\u001b[0m\u001b[0mresult\u001b[0m\u001b[0;34m,\u001b[0m \u001b[0mindex\u001b[0m\u001b[0;34m=\u001b[0m\u001b[0mself\u001b[0m\u001b[0;34m.\u001b[0m\u001b[0mindex\u001b[0m\u001b[0;34m)\u001b[0m\u001b[0;34m\u001b[0m\u001b[0;34m\u001b[0m\u001b[0m\n\u001b[0m\u001b[1;32m   2758\u001b[0m         \u001b[0mout\u001b[0m \u001b[0;34m=\u001b[0m \u001b[0mout\u001b[0m\u001b[0;34m.\u001b[0m\u001b[0m__finalize__\u001b[0m\u001b[0;34m(\u001b[0m\u001b[0mself\u001b[0m\u001b[0;34m)\u001b[0m\u001b[0;34m\u001b[0m\u001b[0;34m\u001b[0m\u001b[0m\n\u001b[1;32m   2759\u001b[0m \u001b[0;34m\u001b[0m\u001b[0m\n",
      "\u001b[0;32m/opt/anaconda3/envs/bigdatalab_cpu_202101/lib/python3.7/site-packages/pandas/core/series.py\u001b[0m in \u001b[0;36m__init__\u001b[0;34m(self, data, index, dtype, name, copy, fastpath)\u001b[0m\n\u001b[1;32m    301\u001b[0m                 \u001b[0mdata\u001b[0m \u001b[0;34m=\u001b[0m \u001b[0mcom\u001b[0m\u001b[0;34m.\u001b[0m\u001b[0mmaybe_iterable_to_list\u001b[0m\u001b[0;34m(\u001b[0m\u001b[0mdata\u001b[0m\u001b[0;34m)\u001b[0m\u001b[0;34m\u001b[0m\u001b[0;34m\u001b[0m\u001b[0m\n\u001b[1;32m    302\u001b[0m \u001b[0;34m\u001b[0m\u001b[0m\n\u001b[0;32m--> 303\u001b[0;31m             \u001b[0;32mif\u001b[0m \u001b[0mindex\u001b[0m \u001b[0;32mis\u001b[0m \u001b[0;32mNone\u001b[0m\u001b[0;34m:\u001b[0m\u001b[0;34m\u001b[0m\u001b[0;34m\u001b[0m\u001b[0m\n\u001b[0m\u001b[1;32m    304\u001b[0m                 \u001b[0;32mif\u001b[0m \u001b[0;32mnot\u001b[0m \u001b[0mis_list_like\u001b[0m\u001b[0;34m(\u001b[0m\u001b[0mdata\u001b[0m\u001b[0;34m)\u001b[0m\u001b[0;34m:\u001b[0m\u001b[0;34m\u001b[0m\u001b[0;34m\u001b[0m\u001b[0m\n\u001b[1;32m    305\u001b[0m                     \u001b[0mdata\u001b[0m \u001b[0;34m=\u001b[0m \u001b[0;34m[\u001b[0m\u001b[0mdata\u001b[0m\u001b[0;34m]\u001b[0m\u001b[0;34m\u001b[0m\u001b[0;34m\u001b[0m\u001b[0m\n",
      "\u001b[0;31mKeyboardInterrupt\u001b[0m: "
     ]
    }
   ],
   "source": [
    "incr_decr_th = 0\n",
    "patterns = []\n",
    "\n",
    "\n",
    "for i, df in interest_df.groupby(['station_id', 'window']):\n",
    "    hasFull = False\n",
    "    hasAlmostFull = False\n",
    "    hasIncrease = False\n",
    "\n",
    "    if len(df[df.docks_available==0]) > 0:\n",
    "        hasFull=True\n",
    "    if len(df[(df.docks_available < 3) & (df.docks_available>0)]) > 0:\n",
    "        hasAlmostFull=True\n",
    "\n",
    "    min_val = df['bikes_available'].values[0]\n",
    "    for el in df['bikes_available'][1:].values:\n",
    "        if el < min_val:\n",
    "            min_val = el\n",
    "        if (el - min_val) > incr_decr_th:\n",
    "            hasIncrease = True\n",
    "    patterns.append((i[0], i[1], hasIncrease, hasAlmostFull, hasFull))"
   ]
  },
  {
   "cell_type": "code",
   "execution_count": 30,
   "id": "republican-watershed",
   "metadata": {},
   "outputs": [
    {
     "data": {
      "text/plain": [
       "1176992"
      ]
     },
     "execution_count": 30,
     "metadata": {},
     "output_type": "execute_result"
    }
   ],
   "source": [
    "len(patterns)"
   ]
  },
  {
   "cell_type": "code",
   "execution_count": 31,
   "id": "talented-shakespeare",
   "metadata": {},
   "outputs": [],
   "source": [
    "df = pd.DataFrame(patterns)"
   ]
  },
  {
   "cell_type": "code",
   "execution_count": 34,
   "id": "lightweight-auckland",
   "metadata": {},
   "outputs": [
    {
     "data": {
      "text/plain": [
       "Timestamp('1972-11-29 02:24:00')"
      ]
     },
     "execution_count": 34,
     "metadata": {},
     "output_type": "execute_result"
    }
   ],
   "source": [
    "min(df[1])"
   ]
  },
  {
   "cell_type": "code",
   "execution_count": 36,
   "id": "extensive-resolution",
   "metadata": {},
   "outputs": [],
   "source": [
    "occurrencies = []\n",
    "past = False\n",
    "\n",
    "for i, d in df.groupby(0):\n",
    "    old_window = datetime(1972, 11, 28, 0, 0)\n",
    "    for _, el in d.iterrows():\n",
    "        if(el[1] - old_window).seconds == 60:\n",
    "            if past and el[3]:\n",
    "                occurrencies.append(1)\n",
    "            if past:\n",
    "                occurrencies.append(0)\n",
    "        past = el[2] & el[4]\n",
    "        old_window = el[1]"
   ]
  },
  {
   "cell_type": "code",
   "execution_count": 37,
   "id": "inclusive-chambers",
   "metadata": {},
   "outputs": [
    {
     "name": "stdout",
     "output_type": "stream",
     "text": [
      "0.39794721407624634\n",
      "17050\n"
     ]
    }
   ],
   "source": [
    "print(np.sum(occurrencies)/len(occurrencies))\n",
    "print(len(occurrencies))"
   ]
  }
 ],
 "metadata": {
  "kernelspec": {
   "display_name": "Python 3",
   "language": "python",
   "name": "python3"
  },
  "language_info": {
   "codemirror_mode": {
    "name": "ipython",
    "version": 3
   },
   "file_extension": ".py",
   "mimetype": "text/x-python",
   "name": "python",
   "nbconvert_exporter": "python",
   "pygments_lexer": "ipython3",
   "version": "3.7.9"
  }
 },
 "nbformat": 4,
 "nbformat_minor": 5
}
