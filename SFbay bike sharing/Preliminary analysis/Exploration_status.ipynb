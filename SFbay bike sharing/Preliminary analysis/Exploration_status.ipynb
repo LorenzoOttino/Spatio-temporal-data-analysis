{
 "cells": [
  {
   "cell_type": "code",
   "execution_count": 1,
   "id": "documentary-friday",
   "metadata": {},
   "outputs": [
    {
     "name": "stderr",
     "output_type": "stream",
     "text": [
      "\n",
      "Bad key \"text.kerning_factor\" on line 4 in\n",
      "/opt/anaconda3/envs/bigdatalab_cpu_202101/lib/python3.7/site-packages/matplotlib/mpl-data/stylelib/_classic_test_patch.mplstyle.\n",
      "You probably need to get an updated matplotlibrc file from\n",
      "https://github.com/matplotlib/matplotlib/blob/v3.1.2/matplotlibrc.template\n",
      "or from the matplotlib source distribution\n"
     ]
    }
   ],
   "source": [
    "import pandas as pd\n",
    "import os\n",
    "import numpy as np\n",
    "import datetime\n",
    "import matplotlib.pyplot as plt"
   ]
  },
  {
   "cell_type": "code",
   "execution_count": 2,
   "id": "laden-actor",
   "metadata": {},
   "outputs": [],
   "source": [
    "status_df = pd.read_csv(\"../../Data/filtered_status.csv\", parse_dates=['time'])"
   ]
  },
  {
   "cell_type": "code",
   "execution_count": 3,
   "id": "expensive-declaration",
   "metadata": {},
   "outputs": [
    {
     "data": {
      "text/html": [
       "<div>\n",
       "<style scoped>\n",
       "    .dataframe tbody tr th:only-of-type {\n",
       "        vertical-align: middle;\n",
       "    }\n",
       "\n",
       "    .dataframe tbody tr th {\n",
       "        vertical-align: top;\n",
       "    }\n",
       "\n",
       "    .dataframe thead th {\n",
       "        text-align: right;\n",
       "    }\n",
       "</style>\n",
       "<table border=\"1\" class=\"dataframe\">\n",
       "  <thead>\n",
       "    <tr style=\"text-align: right;\">\n",
       "      <th></th>\n",
       "      <th>station_id</th>\n",
       "      <th>bikes_available</th>\n",
       "      <th>docks_available</th>\n",
       "      <th>time</th>\n",
       "    </tr>\n",
       "  </thead>\n",
       "  <tbody>\n",
       "    <tr>\n",
       "      <th>0</th>\n",
       "      <td>2</td>\n",
       "      <td>2</td>\n",
       "      <td>25</td>\n",
       "      <td>2013-08-29 12:06:01</td>\n",
       "    </tr>\n",
       "    <tr>\n",
       "      <th>1</th>\n",
       "      <td>2</td>\n",
       "      <td>2</td>\n",
       "      <td>25</td>\n",
       "      <td>2013-08-29 12:07:01</td>\n",
       "    </tr>\n",
       "    <tr>\n",
       "      <th>2</th>\n",
       "      <td>2</td>\n",
       "      <td>2</td>\n",
       "      <td>25</td>\n",
       "      <td>2013-08-29 12:08:01</td>\n",
       "    </tr>\n",
       "    <tr>\n",
       "      <th>3</th>\n",
       "      <td>2</td>\n",
       "      <td>2</td>\n",
       "      <td>25</td>\n",
       "      <td>2013-08-29 12:09:01</td>\n",
       "    </tr>\n",
       "    <tr>\n",
       "      <th>4</th>\n",
       "      <td>2</td>\n",
       "      <td>2</td>\n",
       "      <td>25</td>\n",
       "      <td>2013-08-29 12:10:01</td>\n",
       "    </tr>\n",
       "    <tr>\n",
       "      <th>...</th>\n",
       "      <td>...</td>\n",
       "      <td>...</td>\n",
       "      <td>...</td>\n",
       "      <td>...</td>\n",
       "    </tr>\n",
       "    <tr>\n",
       "      <th>71977905</th>\n",
       "      <td>84</td>\n",
       "      <td>8</td>\n",
       "      <td>7</td>\n",
       "      <td>2015-08-31 23:55:02</td>\n",
       "    </tr>\n",
       "    <tr>\n",
       "      <th>71977906</th>\n",
       "      <td>84</td>\n",
       "      <td>8</td>\n",
       "      <td>7</td>\n",
       "      <td>2015-08-31 23:56:01</td>\n",
       "    </tr>\n",
       "    <tr>\n",
       "      <th>71977907</th>\n",
       "      <td>84</td>\n",
       "      <td>8</td>\n",
       "      <td>7</td>\n",
       "      <td>2015-08-31 23:57:02</td>\n",
       "    </tr>\n",
       "    <tr>\n",
       "      <th>71977908</th>\n",
       "      <td>84</td>\n",
       "      <td>8</td>\n",
       "      <td>7</td>\n",
       "      <td>2015-08-31 23:58:02</td>\n",
       "    </tr>\n",
       "    <tr>\n",
       "      <th>71977909</th>\n",
       "      <td>84</td>\n",
       "      <td>8</td>\n",
       "      <td>7</td>\n",
       "      <td>2015-08-31 23:59:02</td>\n",
       "    </tr>\n",
       "  </tbody>\n",
       "</table>\n",
       "<p>71977910 rows × 4 columns</p>\n",
       "</div>"
      ],
      "text/plain": [
       "          station_id  bikes_available  docks_available                time\n",
       "0                  2                2               25 2013-08-29 12:06:01\n",
       "1                  2                2               25 2013-08-29 12:07:01\n",
       "2                  2                2               25 2013-08-29 12:08:01\n",
       "3                  2                2               25 2013-08-29 12:09:01\n",
       "4                  2                2               25 2013-08-29 12:10:01\n",
       "...              ...              ...              ...                 ...\n",
       "71977905          84                8                7 2015-08-31 23:55:02\n",
       "71977906          84                8                7 2015-08-31 23:56:01\n",
       "71977907          84                8                7 2015-08-31 23:57:02\n",
       "71977908          84                8                7 2015-08-31 23:58:02\n",
       "71977909          84                8                7 2015-08-31 23:59:02\n",
       "\n",
       "[71977910 rows x 4 columns]"
      ]
     },
     "execution_count": 3,
     "metadata": {},
     "output_type": "execute_result"
    }
   ],
   "source": [
    "status_df"
   ]
  },
  {
   "cell_type": "code",
   "execution_count": 4,
   "id": "certified-minnesota",
   "metadata": {},
   "outputs": [
    {
     "name": "stdout",
     "output_type": "stream",
     "text": [
      "<class 'pandas.core.frame.DataFrame'>\n",
      "RangeIndex: 71977910 entries, 0 to 71977909\n",
      "Data columns (total 4 columns):\n",
      " #   Column           Dtype         \n",
      "---  ------           -----         \n",
      " 0   station_id       int64         \n",
      " 1   bikes_available  int64         \n",
      " 2   docks_available  int64         \n",
      " 3   time             datetime64[ns]\n",
      "dtypes: datetime64[ns](1), int64(3)\n",
      "memory usage: 2.1 GB\n"
     ]
    }
   ],
   "source": [
    "status_df.info(verbose=True)"
   ]
  },
  {
   "cell_type": "code",
   "execution_count": 3,
   "id": "governing-second",
   "metadata": {},
   "outputs": [],
   "source": [
    "# add day column to the dataframe\n",
    "status_df['day'] = status_df['time'].dt.date"
   ]
  },
  {
   "cell_type": "code",
   "execution_count": 26,
   "id": "based-pricing",
   "metadata": {},
   "outputs": [],
   "source": [
    "# calculate how often stations are (almost) empty/full\n",
    "\n",
    "for ID in [70, 76, 34, 72, 75, 69, 50, 60, 73, 82, 84]: #arbitrary set of stations\n",
    "    IDdf = status_df[status_df['station_id']==ID]\n",
    "\n",
    "    length = []\n",
    "    full = []\n",
    "    almost_full = []\n",
    "    normal = []\n",
    "    almost_empty = []\n",
    "    empty = []\n",
    "\n",
    "    for group, df in IDdf.groupby('day'):\n",
    "        length.append(len(df))\n",
    "        full.append(len(df[df['docks_available'] == 0]))\n",
    "        almost_full.append(len(df[df['docks_available'] <= 3]))\n",
    "        mask = (df['docks_available'] <= 3) | (df['bikes_available'] <= 3)\n",
    "        normal.append(len(df[~mask]))\n",
    "        almost_empty.append(len(df[df['bikes_available'] <= 3]))\n",
    "        empty.append(len(df[df['bikes_available'] == 0]))\n",
    "\n",
    "    length = np.array(length)\n",
    "    full = np.array(full)\n",
    "    almost_full = np.array(almost_full)\n",
    "    normal = np.array(normal)\n",
    "    almost_empty = np.array(almost_empty)\n",
    "    empty = np.array(empty)\n",
    "\n",
    "    plt.figure(figsize=(10, 6))\n",
    "\n",
    "    bars = [np.mean(full/length*100), np.mean(almost_full/length*100), np.mean(normal/length*100), np.mean(almost_empty/length*100), np.mean(empty/length*100)]\n",
    "    names = ['full', 'almost_full', 'normal', 'almost_empty', 'empty']\n",
    "\n",
    "    plt.bar(names, bars)\n",
    "    plt.ylabel('Percentage of time')\n",
    "\n",
    "    if not os.path.exists(f\"../../Results/Occupation/\"):\n",
    "        os.makedirs(f\"../../Results/Occupation/\")\n",
    "    plt.savefig(f\"../../Results/Occupation/Station_{ID}.jpg\", bbox_inches='tight')\n",
    "    plt.close()"
   ]
  }
 ],
 "metadata": {
  "kernelspec": {
   "display_name": "Python 3",
   "language": "python",
   "name": "python3"
  },
  "language_info": {
   "codemirror_mode": {
    "name": "ipython",
    "version": 3
   },
   "file_extension": ".py",
   "mimetype": "text/x-python",
   "name": "python",
   "nbconvert_exporter": "python",
   "pygments_lexer": "ipython3",
   "version": "3.7.9"
  }
 },
 "nbformat": 4,
 "nbformat_minor": 5
}
