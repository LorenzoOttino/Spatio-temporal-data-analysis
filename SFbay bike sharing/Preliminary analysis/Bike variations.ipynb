{
 "cells": [
  {
   "cell_type": "code",
   "execution_count": 1,
   "id": "welsh-disco",
   "metadata": {},
   "outputs": [
    {
     "name": "stderr",
     "output_type": "stream",
     "text": [
      "\n",
      "Bad key \"text.kerning_factor\" on line 4 in\n",
      "/opt/anaconda3/envs/bigdatalab_cpu_202101/lib/python3.7/site-packages/matplotlib/mpl-data/stylelib/_classic_test_patch.mplstyle.\n",
      "You probably need to get an updated matplotlibrc file from\n",
      "https://github.com/matplotlib/matplotlib/blob/v3.1.2/matplotlibrc.template\n",
      "or from the matplotlib source distribution\n"
     ]
    }
   ],
   "source": [
    "import pandas as pd\n",
    "import datetime\n",
    "import matplotlib.pyplot as plt\n",
    "import seaborn as sns\n",
    "import numpy as np\n",
    "import os"
   ]
  },
  {
   "cell_type": "code",
   "execution_count": 2,
   "id": "annoying-logan",
   "metadata": {},
   "outputs": [],
   "source": [
    "status_dir = \"../../Data/filtered_status.csv\"\n",
    "status_df = pd.read_csv(status_dir, parse_dates=['time'])"
   ]
  },
  {
   "cell_type": "code",
   "execution_count": 19,
   "id": "massive-above",
   "metadata": {},
   "outputs": [
    {
     "data": {
      "text/html": [
       "<div>\n",
       "<style scoped>\n",
       "    .dataframe tbody tr th:only-of-type {\n",
       "        vertical-align: middle;\n",
       "    }\n",
       "\n",
       "    .dataframe tbody tr th {\n",
       "        vertical-align: top;\n",
       "    }\n",
       "\n",
       "    .dataframe thead th {\n",
       "        text-align: right;\n",
       "    }\n",
       "</style>\n",
       "<table border=\"1\" class=\"dataframe\">\n",
       "  <thead>\n",
       "    <tr style=\"text-align: right;\">\n",
       "      <th></th>\n",
       "      <th>station_id</th>\n",
       "      <th>bikes_available</th>\n",
       "      <th>docks_available</th>\n",
       "      <th>time</th>\n",
       "    </tr>\n",
       "  </thead>\n",
       "  <tbody>\n",
       "    <tr>\n",
       "      <th>6282522</th>\n",
       "      <td>8</td>\n",
       "      <td>8</td>\n",
       "      <td>7</td>\n",
       "      <td>2013-08-29 12:06:01</td>\n",
       "    </tr>\n",
       "    <tr>\n",
       "      <th>6282523</th>\n",
       "      <td>8</td>\n",
       "      <td>8</td>\n",
       "      <td>7</td>\n",
       "      <td>2013-08-29 12:07:01</td>\n",
       "    </tr>\n",
       "    <tr>\n",
       "      <th>6282524</th>\n",
       "      <td>8</td>\n",
       "      <td>8</td>\n",
       "      <td>7</td>\n",
       "      <td>2013-08-29 12:08:01</td>\n",
       "    </tr>\n",
       "    <tr>\n",
       "      <th>6282525</th>\n",
       "      <td>8</td>\n",
       "      <td>8</td>\n",
       "      <td>7</td>\n",
       "      <td>2013-08-29 12:09:01</td>\n",
       "    </tr>\n",
       "    <tr>\n",
       "      <th>6282526</th>\n",
       "      <td>8</td>\n",
       "      <td>8</td>\n",
       "      <td>7</td>\n",
       "      <td>2013-08-29 12:10:01</td>\n",
       "    </tr>\n",
       "    <tr>\n",
       "      <th>...</th>\n",
       "      <td>...</td>\n",
       "      <td>...</td>\n",
       "      <td>...</td>\n",
       "      <td>...</td>\n",
       "    </tr>\n",
       "    <tr>\n",
       "      <th>7329060</th>\n",
       "      <td>8</td>\n",
       "      <td>13</td>\n",
       "      <td>2</td>\n",
       "      <td>2015-08-31 23:55:02</td>\n",
       "    </tr>\n",
       "    <tr>\n",
       "      <th>7329061</th>\n",
       "      <td>8</td>\n",
       "      <td>13</td>\n",
       "      <td>2</td>\n",
       "      <td>2015-08-31 23:56:01</td>\n",
       "    </tr>\n",
       "    <tr>\n",
       "      <th>7329062</th>\n",
       "      <td>8</td>\n",
       "      <td>13</td>\n",
       "      <td>2</td>\n",
       "      <td>2015-08-31 23:57:02</td>\n",
       "    </tr>\n",
       "    <tr>\n",
       "      <th>7329063</th>\n",
       "      <td>8</td>\n",
       "      <td>13</td>\n",
       "      <td>2</td>\n",
       "      <td>2015-08-31 23:58:02</td>\n",
       "    </tr>\n",
       "    <tr>\n",
       "      <th>7329064</th>\n",
       "      <td>8</td>\n",
       "      <td>13</td>\n",
       "      <td>2</td>\n",
       "      <td>2015-08-31 23:59:02</td>\n",
       "    </tr>\n",
       "  </tbody>\n",
       "</table>\n",
       "<p>1046543 rows × 4 columns</p>\n",
       "</div>"
      ],
      "text/plain": [
       "         station_id  bikes_available  docks_available                time\n",
       "6282522           8                8                7 2013-08-29 12:06:01\n",
       "6282523           8                8                7 2013-08-29 12:07:01\n",
       "6282524           8                8                7 2013-08-29 12:08:01\n",
       "6282525           8                8                7 2013-08-29 12:09:01\n",
       "6282526           8                8                7 2013-08-29 12:10:01\n",
       "...             ...              ...              ...                 ...\n",
       "7329060           8               13                2 2015-08-31 23:55:02\n",
       "7329061           8               13                2 2015-08-31 23:56:01\n",
       "7329062           8               13                2 2015-08-31 23:57:02\n",
       "7329063           8               13                2 2015-08-31 23:58:02\n",
       "7329064           8               13                2 2015-08-31 23:59:02\n",
       "\n",
       "[1046543 rows x 4 columns]"
      ]
     },
     "execution_count": 19,
     "metadata": {},
     "output_type": "execute_result"
    }
   ],
   "source": [
    "status_df[status_df.station_id==8]#.dropna()"
   ]
  },
  {
   "cell_type": "code",
   "execution_count": 15,
   "id": "motivated-childhood",
   "metadata": {},
   "outputs": [],
   "source": [
    "intervals = [5, 10, 20, 60] # interval in minutes\n",
    "stationIDs = [70, 34, 72, 69, 73, 84] # arbitrary set of station IDs\n",
    "\n",
    "for stationID in stationIDs:\n",
    "    interval_status_df = status_df[status_df.station_id==stationID].drop('station_id', axis=1)\n",
    "    for interval in intervals:\n",
    "        # calculate the total number of bikes in each interval\n",
    "        interval_status_df = interval_status_df.resample(f\"{interval}T\", on = 'time').sum().reset_index()\n",
    "\n",
    "        # calculate the variation of the total number of bikes\n",
    "        delta_df = pd.DataFrame()\n",
    "        delta_df['time'] = interval_status_df['time'].shift(-1)\n",
    "        delta_df['delta_bikes'] = (interval_status_df['bikes_available'].shift(-1) - interval_status_df['bikes_available'])\n",
    "        delta_df.dropna(inplace=True)\n",
    "\n",
    "        # group by interval, discarding the day\n",
    "        delta_df['day_time'] = delta_df['time'].dt.time\n",
    "        delta_df.drop('time', axis=1, inplace=True)\n",
    "        grouped_df = delta_df.groupby('day_time').mean().reset_index()\n",
    "        grouped_df['sum_deltas'] = np.cumsum(grouped_df.delta_bikes)\n",
    "\n",
    "        # plot and save\n",
    "        grouped_df.day_time = grouped_df.day_time.astype(str)\n",
    "\n",
    "        plt.figure(figsize=(10,6))\n",
    "        sns.lineplot(x='day_time', y='value', hue='variable', data=pd.melt(grouped_df, ['day_time']))\n",
    "        plt.xticks(\n",
    "            grouped_df['day_time'].iloc[::int(60/interval)],\n",
    "            rotation=45,\n",
    "            horizontalalignment='right',\n",
    "            fontweight='light'\n",
    "        )\n",
    "        plt.ylabel('Bikes')\n",
    "        plt.xlabel('Time')\n",
    "        if not os.path.exists(f\"../../Results/Variations/Station_{stationID}/\"):\n",
    "            os.makedirs(f\"../../Results/Variations/Station_{stationID}/\")\n",
    "        plt.savefig(f\"../../Results/Variations/Station_{stationID}/Interval_{interval}.jpg\", bbox_inches='tight')\n",
    "        plt.close()"
   ]
  },
  {
   "cell_type": "code",
   "execution_count": 36,
   "id": "adopted-korea",
   "metadata": {},
   "outputs": [],
   "source": [
    "# plot variations with sum and without day averaging\n",
    "intervals = [5, 10, 20, 60] # interval in minutes\n",
    "stationIDs = [70, 34, 72, 69, 73, 84] # arbitrary set of station IDs\n",
    "\n",
    "for stationID in stationIDs:\n",
    "    interval_status_df = status_df[status_df.station_id==stationID].drop('station_id', axis=1)\n",
    "    for interval in intervals:\n",
    "        # calculate the total number of bikes in each interval\n",
    "        interval_status_df = interval_status_df.resample(f\"{interval}T\", on = 'time').mean().reset_index()\n",
    "\n",
    "        # calculate the variation of the total number of bikes\n",
    "        delta_df = pd.DataFrame()\n",
    "        delta_df['time'] = interval_status_df['time'].shift(-1)\n",
    "        delta_df['delta_bikes'] = (interval_status_df['bikes_available'].shift(-1) - interval_status_df['bikes_available'])\n",
    "        delta_df.dropna(inplace=True)\n",
    "        \n",
    "        delta_df = delta_df.set_index('time')\n",
    "        delta_df.plot(figsize=(10,6))\n",
    "        if not os.path.exists(f\"../../Results/Variations_status/Station_{stationID}/\"):\n",
    "            os.makedirs(f\"../../Results/Variations_status/Station_{stationID}/\")\n",
    "        plt.savefig(f\"../../Results/Variations_status/Station_{stationID}/Interval_{interval}.jpg\", bbox_inches='tight')\n",
    "        plt.close()"
   ]
  },
  {
   "cell_type": "code",
   "execution_count": 37,
   "id": "experimental-activation",
   "metadata": {},
   "outputs": [
    {
     "data": {
      "text/plain": [
       "<matplotlib.axes._subplots.AxesSubplot at 0x7f17ac67e410>"
      ]
     },
     "execution_count": 37,
     "metadata": {},
     "output_type": "execute_result"
    },
    {
     "data": {
      "image/png": "[encoded data removed]",
      "text/plain": [
       "<Figure size 720x432 with 1 Axes>"
      ]
     },
     "metadata": {
      "needs_background": "light"
     },
     "output_type": "display_data"
    }
   ],
   "source": [
    "# some code for inspection\n",
    "stationID = 84\n",
    "interval = 10\n",
    "interval_status_df = status_df[status_df.station_id==stationID].drop('station_id', axis=1)\n",
    "interval_status_df = interval_status_df.resample(f\"{interval}T\", on = 'time').mean().reset_index()\n",
    "\n",
    "delta_df = pd.DataFrame()\n",
    "delta_df['time'] = interval_status_df['time'].shift(-1)\n",
    "delta_df['delta_bikes'] = (interval_status_df['bikes_available'].shift(-1) - interval_status_df['bikes_available'])\n",
    "delta_df.dropna(inplace=True)\n",
    "\n",
    "delta_df = delta_df.set_index('time')\n",
    "delta_df.loc['2014-10-30'].plot(figsize=(10,6))"
   ]
  }
 ],
 "metadata": {
  "kernelspec": {
   "display_name": "Python 3",
   "language": "python",
   "name": "python3"
  },
  "language_info": {
   "codemirror_mode": {
    "name": "ipython",
    "version": 3
   },
   "file_extension": ".py",
   "mimetype": "text/x-python",
   "name": "python",
   "nbconvert_exporter": "python",
   "pygments_lexer": "ipython3",
   "version": "3.7.9"
  }
 },
 "nbformat": 4,
 "nbformat_minor": 5
}
