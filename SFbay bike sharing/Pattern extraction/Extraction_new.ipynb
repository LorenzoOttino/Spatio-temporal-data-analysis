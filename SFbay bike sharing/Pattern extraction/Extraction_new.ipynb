{
 "cells": [
  {
   "cell_type": "code",
   "execution_count": 1,
   "id": "universal-education",
   "metadata": {},
   "outputs": [
    {
     "name": "stderr",
     "output_type": "stream",
     "text": [
      "\n",
      "Bad key \"text.kerning_factor\" on line 4 in\n",
      "/opt/anaconda3/envs/bigdatalab_cpu_202101/lib/python3.7/site-packages/matplotlib/mpl-data/stylelib/_classic_test_patch.mplstyle.\n",
      "You probably need to get an updated matplotlibrc file from\n",
      "https://github.com/matplotlib/matplotlib/blob/v3.1.2/matplotlibrc.template\n",
      "or from the matplotlib source distribution\n"
     ]
    }
   ],
   "source": [
    "sc.addPyFile(\"Pattern_Extractor.py\")\n",
    "sc.addPyFile(\"Additional_tools.py\")\n",
    "\n",
    "import time\n",
    "from Pattern_Extractor import Pattern_Extractor as Extractor"
   ]
  },
  {
   "cell_type": "code",
   "execution_count": 3,
   "id": "premier-viking",
   "metadata": {},
   "outputs": [],
   "source": [
    "#parameters\n",
    "interval = 15 #time window\n",
    "maxDelta = 3 #how many spatial deltas\n",
    "th = 0.5 #distance (in km)\n",
    "window_size = 3 #how many time deltas"
   ]
  },
  {
   "cell_type": "code",
   "execution_count": 4,
   "id": "seeing-amazon",
   "metadata": {},
   "outputs": [],
   "source": [
    "status_path  = \"bike_sharing/filtered_status.csv\"\n",
    "stations_path = \"bike_sharing/station.csv\"\n",
    "\n",
    "ext = Extractor(interval, maxDelta, th, window_size, status_path, stations_path, spark, sc)"
   ]
  },
  {
   "cell_type": "code",
   "execution_count": 14,
   "id": "familiar-excellence",
   "metadata": {},
   "outputs": [],
   "source": [
    "neighborhood_type = 'indegree'\n",
    "n_neighbors = 20\n",
    "extraction_type = 'Full-Decrease' # Full-AlmostFull or Empty-AlmostEmpty or 'Full-Decrease' or 'Empty-Increase'\n",
    "incr_dec_threshold = 1 # 0 for threshold > 0\n",
    "wrap_states=True\n",
    "\n",
    "df = ext.extract_items(extraction_type=extraction_type, neighborhood_type=neighborhood_type, n_neighbors=n_neighbors, incr_dec_threshold=incr_dec_threshold, wrap_states=wrap_states)"
   ]
  },
  {
   "cell_type": "code",
   "execution_count": 15,
   "id": "nutritional-selection",
   "metadata": {},
   "outputs": [],
   "source": [
    "support = 0.01\n",
    "prefix = ext.extract_frequent_items(df, support)"
   ]
  },
  {
   "cell_type": "code",
   "execution_count": null,
   "id": "confidential-comedy",
   "metadata": {},
   "outputs": [],
   "source": [
    "prefix.show(10)"
   ]
  },
  {
   "cell_type": "code",
   "execution_count": 16,
   "id": "attempted-purse",
   "metadata": {},
   "outputs": [
    {
     "name": "stdout",
     "output_type": "stream",
     "text": [
      "The average number of items is: 4.306579982835949\n",
      "The average number of windows is: 2.537937814637772\n",
      "The minimum number of items is: 2\n",
      "The maximum number of items is: 5\n",
      "The minimum number of windows is: 2\n",
      "The maximum number of windows is: 3\n",
      "The number of patterns in the pre-filter is: 19551\n",
      "The number of items after the filter with at least 2 windows and at least a T0 and delta 0 is: 6504\n",
      "STATISTICS about sequences with at least 2 windows_T0_delta0\n",
      "The average number of windows is: 2.537937814637772\n",
      "The minimum number of windows is: 2\n",
      "The maximum number of windows is: 3\n",
      "The average number of items is: 4.306579982835949\n",
      "The minimum number of items is: 2\n",
      "The maximum number of items is: 5\n",
      "The number of patterns in which there is at least one item that repeats within a window is: 1578 \n",
      "The number of patterns with at least 1 event Decrease and 1 event Full is: 1213\n",
      "The number of patterns with at least 1 T0, DELTA S=0 and at least 1 pattern with at least 1 pattern with DELTA S different from 0 and DELTA T different from 0 is: 4077\n"
     ]
    }
   ],
   "source": [
    "root_dir = f\"../../Results/Extraction/{extraction_type}{'_wrapped' if wrap_states else ''}/{n_neighbors}_{incr_dec_threshold}_\"\n",
    "ext.save_stats(prefix, support, extraction_type, root_dir)"
   ]
  },
  {
   "cell_type": "code",
   "execution_count": 6,
   "id": "catholic-window",
   "metadata": {},
   "outputs": [
    {
     "name": "stdout",
     "output_type": "stream",
     "text": [
      "The average number of items is: 4.715097171673466\n",
      "The average number of windows is: 2.589012935465841\n",
      "The minimum number of items is: 2\n",
      "The maximum number of items is: 5\n",
      "The minimum number of windows is: 2\n",
      "The maximum number of windows is: 3\n",
      "The number of patterns in the pre-filter is: 262226\n",
      "The number of items after the filter with at least 2 windows and at least a T0 and delta 0 is: 64771\n",
      "STATISTICS about sequences with at least 2 windows_T0_delta0\n",
      "The average number of windows is: 2.589012935465841\n",
      "The minimum number of windows is: 2\n",
      "The maximum number of windows is: 3\n",
      "The average number of items is: 4.715097171673466\n",
      "The minimum number of items is: 2\n",
      "The maximum number of items is: 5\n",
      "The number of patterns in which there is at least one item that repeats within a window is: 13333 \n",
      "The number of patterns with at least 1 event Decrease and 1 event Full is: 0\n",
      "The number of patterns with at least 1 T0, DELTA S=0 and at least 1 pattern with at least 1 pattern with DELTA S different from 0 and DELTA T different from 0 is: 46680\n",
      "The average number of items is: 4.729419805248359\n",
      "The average number of windows is: 2.5921822019881224\n",
      "The minimum number of items is: 2\n",
      "The maximum number of items is: 5\n",
      "The minimum number of windows is: 2\n",
      "The maximum number of windows is: 3\n",
      "The number of patterns in the pre-filter is: 314674\n",
      "The number of items after the filter with at least 2 windows and at least a T0 and delta 0 is: 84045\n",
      "STATISTICS about sequences with at least 2 windows_T0_delta0\n",
      "The average number of windows is: 2.5921822019881224\n",
      "The minimum number of windows is: 2\n",
      "The maximum number of windows is: 3\n",
      "The average number of items is: 4.729419805248359\n",
      "The minimum number of items is: 2\n",
      "The maximum number of items is: 5\n",
      "The number of patterns in which there is at least one item that repeats within a window is: 16997 \n",
      "The number of patterns with at least 1 event Increase and 1 event Empty is: 0\n",
      "The number of patterns with at least 1 T0, DELTA S=0 and at least 1 pattern with at least 1 pattern with DELTA S different from 0 and DELTA T different from 0 is: 60842\n",
      "The average number of items is: 4.66631102794505\n",
      "The average number of windows is: 2.5723577271187152\n",
      "The minimum number of items is: 2\n",
      "The maximum number of items is: 5\n",
      "The minimum number of windows is: 2\n",
      "The maximum number of windows is: 3\n",
      "The number of patterns in the pre-filter is: 134539\n",
      "The number of items after the filter with at least 2 windows and at least a T0 and delta 0 is: 35870\n",
      "STATISTICS about sequences with at least 2 windows_T0_delta0\n",
      "The average number of windows is: 2.5723577271187152\n",
      "The minimum number of windows is: 2\n",
      "The maximum number of windows is: 3\n",
      "The average number of items is: 4.66631102794505\n",
      "The minimum number of items is: 2\n",
      "The maximum number of items is: 5\n",
      "The number of patterns in which there is at least one item that repeats within a window is: 10061 \n",
      "The number of patterns with at least 1 event Decrease and 1 event Full is: 0\n",
      "The number of patterns with at least 1 T0, DELTA S=0 and at least 1 pattern with at least 1 pattern with DELTA S different from 0 and DELTA T different from 0 is: 26366\n",
      "The average number of items is: 4.689523229600238\n",
      "The average number of windows is: 2.5844643038704644\n",
      "The minimum number of items is: 2\n",
      "The maximum number of items is: 5\n",
      "The minimum number of windows is: 2\n",
      "The maximum number of windows is: 3\n",
      "The number of patterns in the pre-filter is: 166367\n",
      "The number of items after the filter with at least 2 windows and at least a T0 and delta 0 is: 44913\n",
      "STATISTICS about sequences with at least 2 windows_T0_delta0\n",
      "The average number of windows is: 2.5844643038704644\n",
      "The minimum number of windows is: 2\n",
      "The maximum number of windows is: 3\n",
      "The average number of items is: 4.689523229600238\n",
      "The minimum number of items is: 2\n",
      "The maximum number of items is: 5\n",
      "The number of patterns in which there is at least one item that repeats within a window is: 13123 \n",
      "The number of patterns with at least 1 event Increase and 1 event Empty is: 0\n",
      "The number of patterns with at least 1 T0, DELTA S=0 and at least 1 pattern with at least 1 pattern with DELTA S different from 0 and DELTA T different from 0 is: 33198\n",
      "The average number of items is: 4.564198425654598\n",
      "The average number of windows is: 2.556652040541963\n",
      "The minimum number of items is: 2\n",
      "The maximum number of items is: 5\n",
      "The minimum number of windows is: 2\n",
      "The maximum number of windows is: 3\n",
      "The number of patterns in the pre-filter is: 84548\n",
      "The number of items after the filter with at least 2 windows and at least a T0 and delta 0 is: 24362\n",
      "STATISTICS about sequences with at least 2 windows_T0_delta0\n",
      "The average number of windows is: 2.556652040541963\n",
      "The minimum number of windows is: 2\n",
      "The maximum number of windows is: 3\n",
      "The average number of items is: 4.564198425654598\n",
      "The minimum number of items is: 2\n",
      "The maximum number of items is: 5\n",
      "The number of patterns in which there is at least one item that repeats within a window is: 7307 \n",
      "The number of patterns with at least 1 event Decrease and 1 event Full is: 0\n",
      "The number of patterns with at least 1 T0, DELTA S=0 and at least 1 pattern with at least 1 pattern with DELTA S different from 0 and DELTA T different from 0 is: 17574\n",
      "The average number of items is: 4.601912818055501\n",
      "The average number of windows is: 2.575539634568871\n",
      "The minimum number of items is: 2\n",
      "The maximum number of items is: 5\n",
      "The minimum number of windows is: 2\n",
      "The maximum number of windows is: 3\n",
      "The number of patterns in the pre-filter is: 119278\n",
      "The number of items after the filter with at least 2 windows and at least a T0 and delta 0 is: 35633\n",
      "STATISTICS about sequences with at least 2 windows_T0_delta0\n",
      "The average number of windows is: 2.575539634568871\n",
      "The minimum number of windows is: 2\n",
      "The maximum number of windows is: 3\n",
      "The average number of items is: 4.601912818055501\n",
      "The minimum number of items is: 2\n",
      "The maximum number of items is: 5\n",
      "The number of patterns in which there is at least one item that repeats within a window is: 10507 \n",
      "The number of patterns with at least 1 event Increase and 1 event Empty is: 0\n",
      "The number of patterns with at least 1 T0, DELTA S=0 and at least 1 pattern with at least 1 pattern with DELTA S different from 0 and DELTA T different from 0 is: 26317\n",
      "\n",
      "\n",
      "Elapsed time: 80.31962745189666 minutes\n"
     ]
    }
   ],
   "source": [
    "# grid-like search\n",
    "start = time.time()\n",
    "#extraction_type = 'Empty-Increase'\n",
    "neighborhood_type = 'indegree'\n",
    "\n",
    "support = 0.001\n",
    "interval = 30\n",
    "wrap_states = True\n",
    "state_change = False\n",
    "\n",
    "ext = Extractor(interval, maxDelta, th, window_size, status_path, stations_path, spark, sc)\n",
    "\n",
    "for n_neighbors in [20]:\n",
    "    for incr_dec_threshold in [0, 1, 2]:\n",
    "        for extraction_type in['Full-Decrease', 'Empty-Increase']:\n",
    "            df = ext.extract_items(extraction_type=extraction_type, neighborhood_type=neighborhood_type, n_neighbors=n_neighbors, incr_dec_threshold=incr_dec_threshold, wrap_states=wrap_states, state_change=state_change)\n",
    "            prefix = ext.extract_frequent_items(df, support)\n",
    "            root_dir = f\"../../Results/Extraction/{extraction_type}{'_wrapped' if wrap_states else ''}{'_stateChange' if state_change else ''}/{n_neighbors}_{incr_dec_threshold}_\"\n",
    "            ext.save_stats(prefix, support, extraction_type, root_dir)\n",
    "end = time.time()\n",
    "print(f\"\\n\\nElapsed time: {(end - start)/60} minutes\")"
   ]
  }
 ],
 "metadata": {
  "kernelspec": {
   "display_name": "PySpark (Yarn)",
   "language": "python",
   "name": "pyspark_yarn"
  },
  "language_info": {
   "codemirror_mode": {
    "name": "ipython",
    "version": 3
   },
   "file_extension": ".py",
   "mimetype": "text/x-python",
   "name": "python",
   "nbconvert_exporter": "python",
   "pygments_lexer": "ipython3",
   "version": "3.7.9"
  }
 },
 "nbformat": 4,
 "nbformat_minor": 5
}
