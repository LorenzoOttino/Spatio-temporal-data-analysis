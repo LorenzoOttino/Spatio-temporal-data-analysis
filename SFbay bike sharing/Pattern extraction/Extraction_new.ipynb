{
 "cells": [
  {
   "cell_type": "code",
   "execution_count": 1,
   "id": "smaller-longer",
   "metadata": {},
   "outputs": [
    {
     "name": "stderr",
     "output_type": "stream",
     "text": [
      "\n",
      "Bad key \"text.kerning_factor\" on line 4 in\n",
      "/opt/anaconda3/envs/bigdatalab_cpu_202101/lib/python3.7/site-packages/matplotlib/mpl-data/stylelib/_classic_test_patch.mplstyle.\n",
      "You probably need to get an updated matplotlibrc file from\n",
      "https://github.com/matplotlib/matplotlib/blob/v3.1.2/matplotlibrc.template\n",
      "or from the matplotlib source distribution\n"
     ]
    }
   ],
   "source": [
    "import time\n",
    "from Pattern_Extractor import Pattern_Extractor as Extractor"
   ]
  },
  {
   "cell_type": "code",
   "execution_count": 2,
   "id": "intended-disabled",
   "metadata": {},
   "outputs": [],
   "source": [
    "#parameters\n",
    "support = 0.05\n",
    "interval = 15 #time window\n",
    "maxDelta = 3 #how many spatial deltas\n",
    "th = 0.5 #distance (seems in km)\n",
    "window_size = 3 #how many time deltas"
   ]
  },
  {
   "cell_type": "code",
   "execution_count": 3,
   "id": "parental-homework",
   "metadata": {},
   "outputs": [],
   "source": [
    "status_path  = \"bike_sharing/filtered_status.csv\"\n",
    "stations_path = \"bike_sharing/station.csv\"\n",
    "\n",
    "ext = Extractor(interval, maxDelta, th, window_size, status_path, stations_path, spark, sc)"
   ]
  },
  {
   "cell_type": "code",
   "execution_count": 4,
   "id": "square-familiar",
   "metadata": {},
   "outputs": [],
   "source": [
    "neighborhood_type = 'indegree'\n",
    "n_neighbors = 20\n",
    "extraction_type = 'Empty-AlmostEmpty' # Full-AlmostFull or Empty-AlmostEmpty\n",
    "\n",
    "df = ext.extract_items(extraction_type)#, neighborhood_type, n_neighbors)"
   ]
  },
  {
   "cell_type": "code",
   "execution_count": 5,
   "id": "electoral-round",
   "metadata": {},
   "outputs": [],
   "source": [
    "prefix = ext.extract_frequent_items(df, support)"
   ]
  },
  {
   "cell_type": "code",
   "execution_count": 6,
   "id": "private-cycle",
   "metadata": {},
   "outputs": [
    {
     "name": "stdout",
     "output_type": "stream",
     "text": [
      "+--------------------+------+\n",
      "|            sequence|  freq|\n",
      "+--------------------+------+\n",
      "|[[AlmostEmpty_T1_3]]|109743|\n",
      "|      [[Empty_T1_3]]| 43432|\n",
      "|      [[Empty_T0_0]]| 75398|\n",
      "|      [[Empty_T1_2]]| 45887|\n",
      "|[[AlmostEmpty_T2_1]]| 64522|\n",
      "|      [[Empty_T2_1]]| 23601|\n",
      "|      [[Empty_T1_0]]| 61160|\n",
      "|[[AlmostEmpty_T1_1]]| 65793|\n",
      "|      [[Empty_T0_2]]| 46056|\n",
      "|[[AlmostEmpty_T2_2]]|117702|\n",
      "+--------------------+------+\n",
      "only showing top 10 rows\n",
      "\n"
     ]
    }
   ],
   "source": [
    "prefix.show(10)"
   ]
  },
  {
   "cell_type": "code",
   "execution_count": 7,
   "id": "diagnostic-mitchell",
   "metadata": {},
   "outputs": [
    {
     "name": "stdout",
     "output_type": "stream",
     "text": [
      "The average number of items is: 4.185393684126587\n",
      "The average number of windows is: 2.58277767704951\n",
      "The minimum number of items is: 2\n",
      "The maximum number of items is: 5\n",
      "The minimum number of windows is: 2\n",
      "The maximum number of windows is: 3\n",
      "The number of patterns in the pre-filter is: 4670\n",
      "The number of items after the filter with at least 2 windows and at least a T0 and delta 0 is: 1819\n",
      "STATISTICS about sequences with at least 2 windows_T0_delta0\n",
      "The average number of windows is: 2.58277767704951\n",
      "The minimum number of windows is: 2\n",
      "The maximum number of windows is: 3\n",
      "The average number of items is: 4.185393684126587\n",
      "The minimum number of items is: 2\n",
      "The maximum number of items is: 5\n",
      "The number of patterns in which there is at least one item that repeats within a window is: 282 \n",
      "The number of patterns with at least 1 event AlmostEmpty and 1 event Empty is: 1085\n",
      "The number of patterns with at least 1 T0, DELTA S=0 and at least 1 pattern with at least 1 pattern with DELTA S different from 0 and DELTA T different from 0 is: 1136\n"
     ]
    }
   ],
   "source": [
    "root_dir = f\"../../Results/Extraction/{extraction_type}/Old_\" # remember to change Old/New\n",
    "ext.save_stats(prefix, support, extraction_type, root_dir)"
   ]
  }
 ],
 "metadata": {
  "kernelspec": {
   "display_name": "PySpark (Local)",
   "language": "python",
   "name": "pyspark_local"
  },
  "language_info": {
   "codemirror_mode": {
    "name": "ipython",
    "version": 3
   },
   "file_extension": ".py",
   "mimetype": "text/x-python",
   "name": "python",
   "nbconvert_exporter": "python",
   "pygments_lexer": "ipython3",
   "version": "3.7.9"
  }
 },
 "nbformat": 4,
 "nbformat_minor": 5
}
