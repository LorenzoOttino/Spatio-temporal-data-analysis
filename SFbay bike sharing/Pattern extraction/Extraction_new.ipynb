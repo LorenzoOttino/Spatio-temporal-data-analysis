{
 "cells": [
  {
   "cell_type": "code",
   "execution_count": 1,
   "id": "metric-helicopter",
   "metadata": {},
   "outputs": [
    {
     "name": "stderr",
     "output_type": "stream",
     "text": [
      "\n",
      "Bad key \"text.kerning_factor\" on line 4 in\n",
      "/opt/anaconda3/envs/bigdatalab_cpu_202101/lib/python3.7/site-packages/matplotlib/mpl-data/stylelib/_classic_test_patch.mplstyle.\n",
      "You probably need to get an updated matplotlibrc file from\n",
      "https://github.com/matplotlib/matplotlib/blob/v3.1.2/matplotlibrc.template\n",
      "or from the matplotlib source distribution\n"
     ]
    }
   ],
   "source": [
    "sc.addPyFile(\"/home/students/s287791/Thesis/Notebooks/Pattern_extraction/Pattern_Extractor.py\")\n",
    "sc.addPyFile(\"/home/students/s287791/Thesis/Notebooks/Pattern_extraction/Additional_tools.py\")\n",
    "\n",
    "import time\n",
    "from Pattern_Extractor import Pattern_Extractor as Extractor"
   ]
  },
  {
   "cell_type": "code",
   "execution_count": 2,
   "id": "diagnostic-indication",
   "metadata": {},
   "outputs": [],
   "source": [
    "#parameters\n",
    "interval = 15 #time window\n",
    "maxDelta = 3 #how many spatial deltas\n",
    "th = 0.5 #distance (seems in km)\n",
    "window_size = 3 #how many time deltas"
   ]
  },
  {
   "cell_type": "code",
   "execution_count": 4,
   "id": "boolean-blackberry",
   "metadata": {},
   "outputs": [],
   "source": [
    "status_path  = \"bike_sharing/filtered_status.csv\"\n",
    "stations_path = \"bike_sharing/station.csv\"\n",
    "\n",
    "ext = Extractor(interval, maxDelta, th, window_size, status_path, stations_path, spark, sc)"
   ]
  },
  {
   "cell_type": "code",
   "execution_count": 12,
   "id": "floating-drinking",
   "metadata": {},
   "outputs": [],
   "source": [
    "neighborhood_type = 'indegree'\n",
    "n_neighbors = 10\n",
    "extraction_type = 'Full-Decrease' # Full-AlmostFull or Empty-AlmostEmpty or 'Full-Decrease' or 'Empty-Increase'\n",
    "incr_dec_threshold = 0 # 0 for threshold > 0\n",
    "\n",
    "df = ext.extract_items(extraction_type, neighborhood_type, n_neighbors, incr_dec_threshold)"
   ]
  },
  {
   "cell_type": "code",
   "execution_count": 13,
   "id": "built-bracelet",
   "metadata": {},
   "outputs": [],
   "source": [
    "support = 0.2\n",
    "prefix = ext.extract_frequent_items(df, support)"
   ]
  },
  {
   "cell_type": "code",
   "execution_count": null,
   "id": "banned-delight",
   "metadata": {},
   "outputs": [],
   "source": [
    "prefix.show(10)"
   ]
  },
  {
   "cell_type": "code",
   "execution_count": 14,
   "id": "complex-memorabilia",
   "metadata": {},
   "outputs": [
    {
     "name": "stdout",
     "output_type": "stream",
     "text": [
      "The average number of items is: 2.7930518630167396\n",
      "The average number of windows is: 2.341050462115347\n",
      "The minimum number of items is: 2\n",
      "The maximum number of items is: 4\n",
      "The minimum number of windows is: 2\n",
      "The maximum number of windows is: 3\n",
      "The number of patterns in the pre-filter is: 113\n",
      "The number of items after the filter with at least 2 windows and at least a T0 and delta 0 is: 51\n",
      "STATISTICS about sequences with at least 2 windows_T0_delta0\n",
      "The average number of windows is: 2.341050462115347\n",
      "The minimum number of windows is: 2\n",
      "The maximum number of windows is: 3\n",
      "The average number of items is: 2.7930518630167396\n",
      "The minimum number of items is: 2\n",
      "The maximum number of items is: 4\n",
      "The number of patterns in which there is at least one item that repeats within a window is: 0 \n",
      "The number of patterns with at least 1 event Decrease and 1 event Full is: 0\n",
      "The number of patterns with at least 1 T0, DELTA S=0 and at least 1 pattern with at least 1 pattern with DELTA S different from 0 and DELTA T different from 0 is: 9\n"
     ]
    }
   ],
   "source": [
    "root_dir = f\"../../Results/Extraction/{extraction_type}/{n_neighbors}_{incr_dec_threshold}_\"\n",
    "ext.save_stats(prefix, support, extraction_type, root_dir)"
   ]
  },
  {
   "cell_type": "code",
   "execution_count": null,
   "id": "complete-coating",
   "metadata": {},
   "outputs": [
    {
     "name": "stdout",
     "output_type": "stream",
     "text": [
      "The average number of items is: 3.1823413801388742\n",
      "The average number of windows is: 2.440339029686285\n",
      "The minimum number of items is: 2\n",
      "The maximum number of items is: 5\n",
      "The minimum number of windows is: 2\n",
      "The maximum number of windows is: 3\n",
      "The number of patterns in the pre-filter is: 306\n",
      "The number of items after the filter with at least 2 windows and at least a T0 and delta 0 is: 187\n",
      "STATISTICS about sequences with at least 2 windows_T0_delta0\n",
      "The average number of windows is: 2.440339029686285\n",
      "The minimum number of windows is: 2\n",
      "The maximum number of windows is: 3\n",
      "The average number of items is: 3.1823413801388742\n",
      "The minimum number of items is: 2\n",
      "The maximum number of items is: 5\n",
      "The number of patterns in which there is at least one item that repeats within a window is: 0 \n",
      "The number of patterns with at least 1 event Decrease and 1 event Full is: 0\n",
      "The number of patterns with at least 1 T0, DELTA S=0 and at least 1 pattern with at least 1 pattern with DELTA S different from 0 and DELTA T different from 0 is: 26\n",
      "The average number of items is: 2.564254478033191\n",
      "The average number of windows is: 2.2535597313865257\n",
      "The minimum number of items is: 2\n",
      "The maximum number of items is: 4\n",
      "The minimum number of windows is: 2\n",
      "The maximum number of windows is: 3\n",
      "The number of patterns in the pre-filter is: 70\n",
      "The number of items after the filter with at least 2 windows and at least a T0 and delta 0 is: 31\n",
      "STATISTICS about sequences with at least 2 windows_T0_delta0\n",
      "The average number of windows is: 2.2535597313865257\n",
      "The minimum number of windows is: 2\n",
      "The maximum number of windows is: 3\n",
      "The average number of items is: 2.564254478033191\n",
      "The minimum number of items is: 2\n",
      "The maximum number of items is: 4\n",
      "The number of patterns in which there is at least one item that repeats within a window is: 0 \n",
      "The number of patterns with at least 1 event Decrease and 1 event Full is: 0\n",
      "The number of patterns with at least 1 T0, DELTA S=0 and at least 1 pattern with at least 1 pattern with DELTA S different from 0 and DELTA T different from 0 is: 1\n",
      "The average number of items is: 2.330209649403571\n",
      "The average number of windows is: 2.330209649403571\n",
      "The minimum number of items is: 2\n",
      "The maximum number of items is: 3\n",
      "The minimum number of windows is: 2\n",
      "The maximum number of windows is: 3\n",
      "The number of patterns in the pre-filter is: 7\n",
      "The number of items after the filter with at least 2 windows and at least a T0 and delta 0 is: 3\n",
      "STATISTICS about sequences with at least 2 windows_T0_delta0\n",
      "The average number of windows is: 2.330209649403571\n",
      "The minimum number of windows is: 2\n",
      "The maximum number of windows is: 3\n",
      "The average number of items is: 2.330209649403571\n",
      "The minimum number of items is: 2\n",
      "The maximum number of items is: 3\n",
      "The number of patterns in which there is at least one item that repeats within a window is: 0 \n",
      "The number of patterns with at least 1 event Decrease and 1 event Full is: 0\n",
      "The number of patterns with at least 1 T0, DELTA S=0 and at least 1 pattern with at least 1 pattern with DELTA S different from 0 and DELTA T different from 0 is: 0\n",
      "The average number of items is: 2.330587048642558\n",
      "The average number of windows is: 2.330587048642558\n",
      "The minimum number of items is: 2\n",
      "The maximum number of items is: 3\n",
      "The minimum number of windows is: 2\n",
      "The maximum number of windows is: 3\n",
      "The number of patterns in the pre-filter is: 7\n",
      "The number of items after the filter with at least 2 windows and at least a T0 and delta 0 is: 3\n",
      "STATISTICS about sequences with at least 2 windows_T0_delta0\n",
      "The average number of windows is: 2.330587048642558\n",
      "The minimum number of windows is: 2\n",
      "The maximum number of windows is: 3\n",
      "The average number of items is: 2.330587048642558\n",
      "The minimum number of items is: 2\n",
      "The maximum number of items is: 3\n",
      "The number of patterns in which there is at least one item that repeats within a window is: 0 \n",
      "The number of patterns with at least 1 event Decrease and 1 event Full is: 0\n",
      "The number of patterns with at least 1 T0, DELTA S=0 and at least 1 pattern with at least 1 pattern with DELTA S different from 0 and DELTA T different from 0 is: 0\n",
      "The average number of items is: 2.330587048642558\n",
      "The average number of windows is: 2.330587048642558\n",
      "The minimum number of items is: 2\n",
      "The maximum number of items is: 3\n",
      "The minimum number of windows is: 2\n",
      "The maximum number of windows is: 3\n",
      "The number of patterns in the pre-filter is: 7\n",
      "The number of items after the filter with at least 2 windows and at least a T0 and delta 0 is: 3\n",
      "STATISTICS about sequences with at least 2 windows_T0_delta0\n",
      "The average number of windows is: 2.330587048642558\n",
      "The minimum number of windows is: 2\n",
      "The maximum number of windows is: 3\n",
      "The average number of items is: 2.330587048642558\n",
      "The minimum number of items is: 2\n",
      "The maximum number of items is: 3\n",
      "The number of patterns in which there is at least one item that repeats within a window is: 0 \n",
      "The number of patterns with at least 1 event Decrease and 1 event Full is: 0\n",
      "The number of patterns with at least 1 T0, DELTA S=0 and at least 1 pattern with at least 1 pattern with DELTA S different from 0 and DELTA T different from 0 is: 0\n",
      "The average number of items is: 2.330587048642558\n",
      "The average number of windows is: 2.330587048642558\n",
      "The minimum number of items is: 2\n",
      "The maximum number of items is: 3\n",
      "The minimum number of windows is: 2\n",
      "The maximum number of windows is: 3\n",
      "The number of patterns in the pre-filter is: 7\n",
      "The number of items after the filter with at least 2 windows and at least a T0 and delta 0 is: 3\n",
      "STATISTICS about sequences with at least 2 windows_T0_delta0\n",
      "The average number of windows is: 2.330587048642558\n",
      "The minimum number of windows is: 2\n",
      "The maximum number of windows is: 3\n",
      "The average number of items is: 2.330587048642558\n",
      "The minimum number of items is: 2\n",
      "The maximum number of items is: 3\n",
      "The number of patterns in which there is at least one item that repeats within a window is: 0 \n",
      "The number of patterns with at least 1 event Decrease and 1 event Full is: 0\n",
      "The number of patterns with at least 1 T0, DELTA S=0 and at least 1 pattern with at least 1 pattern with DELTA S different from 0 and DELTA T different from 0 is: 0\n",
      "The average number of items is: 2.3308026661236285\n",
      "The average number of windows is: 2.3308026661236285\n",
      "The minimum number of items is: 2\n",
      "The maximum number of items is: 3\n",
      "The minimum number of windows is: 2\n",
      "The maximum number of windows is: 3\n",
      "The number of patterns in the pre-filter is: 7\n",
      "The number of items after the filter with at least 2 windows and at least a T0 and delta 0 is: 3\n",
      "STATISTICS about sequences with at least 2 windows_T0_delta0\n",
      "The average number of windows is: 2.3308026661236285\n",
      "The minimum number of windows is: 2\n",
      "The maximum number of windows is: 3\n",
      "The average number of items is: 2.3308026661236285\n",
      "The minimum number of items is: 2\n",
      "The maximum number of items is: 3\n",
      "The number of patterns in which there is at least one item that repeats within a window is: 0 \n",
      "The number of patterns with at least 1 event Decrease and 1 event Full is: 0\n",
      "The number of patterns with at least 1 T0, DELTA S=0 and at least 1 pattern with at least 1 pattern with DELTA S different from 0 and DELTA T different from 0 is: 0\n"
     ]
    }
   ],
   "source": [
    "# grid-search like\n",
    "extraction_type = 'Full-Decrease'\n",
    "neighborhood_type = 'indegree'\n",
    "\n",
    "for n_neighbors in [5, 10, 20]:\n",
    "    for incr_dec_threshold in [0, 1, 2]:\n",
    "        df = ext.extract_items(extraction_type, neighborhood_type, n_neighbors, incr_dec_threshold)\n",
    "        for support in [0.1, 0.2, 0.4]:\n",
    "            prefix = ext.extract_frequent_items(df, support)\n",
    "            root_dir = f\"../../Results/Extraction/{extraction_type}/{n_neighbors}_{incr_dec_threshold}_\"\n",
    "            ext.save_stats(prefix, support, extraction_type, root_dir)"
   ]
  }
 ],
 "metadata": {
  "kernelspec": {
   "display_name": "PySpark (Yarn)",
   "language": "python",
   "name": "pyspark_yarn"
  },
  "language_info": {
   "codemirror_mode": {
    "name": "ipython",
    "version": 3
   },
   "file_extension": ".py",
   "mimetype": "text/x-python",
   "name": "python",
   "nbconvert_exporter": "python",
   "pygments_lexer": "ipython3",
   "version": "3.7.9"
  }
 },
 "nbformat": 4,
 "nbformat_minor": 5
}
