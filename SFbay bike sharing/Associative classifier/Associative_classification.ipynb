{
 "cells": [
  {
   "cell_type": "code",
   "execution_count": 1,
   "id": "prompt-toyota",
   "metadata": {},
   "outputs": [
    {
     "name": "stderr",
     "output_type": "stream",
     "text": [
      "\n",
      "Bad key \"text.kerning_factor\" on line 4 in\n",
      "/opt/anaconda3/envs/bigdatalab_cpu_202101/lib/python3.7/site-packages/matplotlib/mpl-data/stylelib/_classic_test_patch.mplstyle.\n",
      "You probably need to get an updated matplotlibrc file from\n",
      "https://github.com/matplotlib/matplotlib/blob/v3.1.2/matplotlibrc.template\n",
      "or from the matplotlib source distribution\n"
     ]
    }
   ],
   "source": [
    "sc.addPyFile(\"../Pattern_extraction/Pattern_Extractor.py\")\n",
    "sc.addPyFile(\"../Pattern_extraction/Additional_tools.py\")\n",
    "\n",
    "\n",
    "import time\n",
    "from Pattern_Extractor import Pattern_Extractor as Extractor\n",
    "from Additional_tools import print_test_results\n",
    "import os"
   ]
  },
  {
   "cell_type": "code",
   "execution_count": null,
   "id": "centered-government",
   "metadata": {},
   "outputs": [
    {
     "name": "stdout",
     "output_type": "stream",
     "text": [
      "../../Results/Classification_patterns/Empty-AlmostEmpty_wrapped1/10_1_30_500_0.001(3-3).txt  saved successfully.\n",
      "File:  ./Classification_patterns/Empty-AlmostEmpty_wrapped1/10_1_30_500_0.001(3-3).txt\n",
      "All patterns were filtered.\n",
      "Please choose looser rules.\n",
      "../../Results/Classification_patterns/Empty-AlmostEmpty_wrapped1/Dist_1_30_500_0.001(3-3).txt  saved successfully.\n",
      "mkdir: `Classification_patterns/Empty-AlmostEmpty_wrapped1': File exists\n",
      "File:  ./Classification_patterns/Empty-AlmostEmpty_wrapped1/Dist_1_30_500_0.001(3-3).txt\n",
      "All patterns were filtered.\n",
      "Please choose looser rules.\n",
      "../../Results/Classification_patterns/Empty-Increase_wrapped1/10_1_30_500_0.001(3-3).txt  saved successfully.\n",
      "File:  ./Classification_patterns/Empty-Increase_wrapped1/10_1_30_500_0.001(3-3).txt\n",
      "All patterns were filtered.\n",
      "Please choose looser rules.\n",
      "../../Results/Classification_patterns/Empty-Increase_wrapped1/Dist_1_30_500_0.001(3-3).txt  saved successfully.\n",
      "mkdir: `Classification_patterns/Empty-Increase_wrapped1': File exists\n",
      "File:  ./Classification_patterns/Empty-Increase_wrapped1/Dist_1_30_500_0.001(3-3).txt\n",
      "All patterns were filtered.\n",
      "Please choose looser rules.\n",
      "../../Results/Classification_patterns/Empty-Decrease_wrapped1/10_1_30_500_0.001(3-3).txt  saved successfully.\n",
      "File:  ./Classification_patterns/Empty-Decrease_wrapped1/10_1_30_500_0.001(3-3).txt\n",
      "All patterns were filtered.\n",
      "Please choose looser rules.\n",
      "../../Results/Classification_patterns/Empty-Decrease_wrapped1/0_1_30_500_0.001(3-3).txt  saved successfully.\n",
      "mkdir: `Classification_patterns/Empty-Decrease_wrapped1': File exists\n",
      "File:  ./Classification_patterns/Empty-Decrease_wrapped1/0_1_30_500_0.001(3-3).txt\n",
      "All patterns were filtered.\n",
      "Please choose looser rules.\n",
      "../../Results/Classification_patterns/Empty-Decrease_wrapped1/Dist_1_30_500_0.001(3-3).txt  saved successfully.\n",
      "mkdir: `Classification_patterns/Empty-Decrease_wrapped1': File exists\n",
      "File:  ./Classification_patterns/Empty-Decrease_wrapped1/Dist_1_30_500_0.001(3-3).txt\n",
      "All patterns were filtered.\n",
      "Please choose looser rules.\n",
      "../../Results/Classification_patterns/Empty-AlmostEmpty_wrapped2/10_1_30_500_0.001(3-3).txt  saved successfully.\n",
      "File:  ./Classification_patterns/Empty-AlmostEmpty_wrapped2/10_1_30_500_0.001(3-3).txt\n",
      "All patterns were filtered.\n",
      "Please choose looser rules.\n",
      "../../Results/Classification_patterns/Empty-AlmostEmpty_wrapped2/Dist_1_30_500_0.001(3-3).txt  saved successfully.\n",
      "mkdir: `Classification_patterns/Empty-AlmostEmpty_wrapped2': File exists\n",
      "File:  ./Classification_patterns/Empty-AlmostEmpty_wrapped2/Dist_1_30_500_0.001(3-3).txt\n",
      "All patterns were filtered.\n",
      "Please choose looser rules.\n"
     ]
    }
   ],
   "source": [
    "#parameters\n",
    "support = 0.001\n",
    "intervals = [30, 30, 30, 30, 30, 30, 30, 30, 30, 30, 30, 30, 30, 30]\n",
    "maxDelta = 3 #how many spatial deltas\n",
    "th = 0.5 #distance (seems in km)\n",
    "window_size = 3 #how many time deltas\n",
    "criticality_thresholds = [1, 1, 1, 1, 1, 1, 1, 2, 2, 2, 2, 2, 2, 2]\n",
    "\n",
    "support = 0.001\n",
    "\n",
    "neighborhood_types = ['indegree', 'distance', 'indegree', 'distance', 'indegree', 'indegree', 'distance', 'indegree', 'distance', 'indegree', 'distance', 'indegree', 'indegree', 'distance']\n",
    "n_neighborss = [10, 10, 10, 10, 10, 0, 10, 10, 10, 10, 10, 10, 0, 10]\n",
    "extraction_types = ['Empty-AlmostEmpty', 'Empty-AlmostEmpty', 'Empty-Increase', 'Empty-Increase', 'Empty-Decrease', 'Empty-Decrease', 'Empty-Decrease', 'Empty-AlmostEmpty', 'Empty-AlmostEmpty', 'Empty-Increase', 'Empty-Increase', 'Empty-Decrease', 'Empty-Decrease', 'Empty-Decrease']\n",
    "incr_dec_threshold = 1 # 0 for threshold > 0\n",
    "wrap_states = True\n",
    "state_change = False\n",
    "time_zone = None\n",
    "target = 'AlmostEmpty'\n",
    "\n",
    "status_path  = \"datasets/SanFrancisco_status_train.csv\"\n",
    "#status_path = \"datasets/small_status.csv\"\n",
    "stations_path = \"bike_sharing/station.csv\"\n",
    "importance_path = \"../../Datasets/edge_importance.csv\"\n",
    "status_path_test  = \"datasets/SanFrancisco_status_test.csv\"\n",
    "\n",
    "for i in range(len(intervals)):\n",
    "    interval = intervals[i]\n",
    "    neighborhood_type = neighborhood_types[i]\n",
    "    n_neighbors = n_neighborss[i]\n",
    "    extraction_type = extraction_types[i]\n",
    "    criticality_threshold = criticality_thresholds[i]\n",
    "    \n",
    "    ext = Extractor(interval, maxDelta, th, window_size, status_path, stations_path, spark, sc, criticality_threshold)\n",
    "    df = ext.extract_items(extraction_type=extraction_type, neighborhood_type=neighborhood_type,\n",
    "                       n_neighbors=n_neighbors, incr_dec_threshold=incr_dec_threshold, \n",
    "                       wrap_states=wrap_states, state_change=state_change, time_zone=time_zone,\n",
    "                       importance_path=importance_path)\n",
    "    prefix = ext.extract_frequent_items(df, support)\n",
    "    \n",
    "    zone_str = f\"{time_zone}_\" if time_zone != None else ''\n",
    "    output_file = f\"../../Results/Classification_patterns/{extraction_type}{'_wrapped' if wrap_states else ''}{'_stateChange' if state_change else ''}{'_WN' if extract_normal else ''}{criticality_threshold if criticality_threshold != 3 else ''}/{zone_str}{n_neighbors if neighborhood_type=='indegree' else 'Dist'}_{incr_dec_threshold}_{interval}_{int(th*1000)}_{support}({window_size}-{maxDelta}).txt\"\n",
    "    #same directory, but written for bash\n",
    "    output_file_b = f\"../../Results/Classification_patterns/{extraction_type}{'_wrapped' if wrap_states else ''}{'_stateChange' if state_change else ''}{'_WN' if extract_normal else ''}{criticality_threshold if criticality_threshold != 3 else ''}/{zone_str}{n_neighbors if neighborhood_type=='indegree' else 'Dist'}_{incr_dec_threshold}_{interval}_{int(th*1000)}_{support}\\({window_size}-{maxDelta}\\).txt\"\n",
    "\n",
    "    if not os.path.exists(f\"../../Results/Classification_patterns/{extraction_type}{'_wrapped' if wrap_states else ''}{'_stateChange' if state_change else ''}{'_WN' if extract_normal else ''}{criticality_threshold if criticality_threshold != 3 else ''}/\"):\n",
    "        os.makedirs(f\"../../Results/Classification_patterns/{extraction_type}{'_wrapped' if wrap_states else ''}{'_stateChange' if state_change else ''}{'_WN' if extract_normal else ''}{criticality_threshold if criticality_threshold != 3 else ''}/\")\n",
    "\n",
    "    ext.save_classification_patterns(prefix, output_file)\n",
    "    \n",
    "    hdfs_dir = f\"./Classification_patterns/{extraction_type}{'_wrapped' if wrap_states else ''}{'_stateChange' if state_change else ''}{'_WN' if extract_normal else ''}{criticality_threshold if criticality_threshold != 3 else ''}/\"\n",
    "    \n",
    "    !hdfs dfs -mkdir $hdfs_dir\n",
    "    !hdfs dfs -put $output_file_b $hdfs_dir\n",
    "\n",
    "    test_ext = Extractor(interval, maxDelta, th, window_size, status_path_test, stations_path, spark, sc, criticality_threshold)\n",
    "    df_t = test_ext.extract_items(extraction_type=extraction_type, neighborhood_type=neighborhood_type,\n",
    "                           n_neighbors=n_neighbors, incr_dec_threshold=incr_dec_threshold, \n",
    "                           wrap_states=wrap_states, state_change=state_change, for_test=True,\n",
    "                           time_zone=time_zone, importance_path=importance_path, drop_nulls=True)\n",
    "\n",
    "    conf_thresholds = [0.5, 0.7, 0.8, 0.9]\n",
    "    sup_threshold = 0\n",
    "\n",
    "    zone_str = f\"{time_zone}_\" if time_zone != None else ''\n",
    "    patterns_file = f\"./Classification_patterns/{extraction_type}{'_wrapped' if wrap_states else ''}{'_stateChange' if state_change else ''}{'_WN' if extract_normal else ''}{criticality_threshold if criticality_threshold != 3 else ''}/{zone_str}{n_neighbors if neighborhood_type=='indegree' else 'Dist'}_{incr_dec_threshold}_{interval}_{int(th*1000)}_{support}({window_size}-{maxDelta}).txt\"\n",
    "    print(\"File: \", patterns_file)\n",
    "\n",
    "    for conf_threshold in conf_thresholds:\n",
    "        filtered_patterns = ext.filter_patterns_conf_sup(patterns_file, conf_threshold, sup_threshold, target=target)\n",
    "        rules = filtered_patterns.collect()\n",
    "\n",
    "        extraction = f\"{extraction_type}{'_wrapped' if wrap_states else ''}{'_stateChange' if state_change else ''}{'_WN' if extract_normal else ''}\"\n",
    "        neighborhood = f\"{str(n_neighbors) if neighborhood_type=='indegree' else 'Dist'}\"\n",
    "\n",
    "        if len(rules)==0:\n",
    "            break\n",
    "\n",
    "        for match_threshold in [1, 5]:\n",
    "            if len(rules) < match_threshold:\n",
    "                break\n",
    "        \n",
    "            results = test_ext.test_rules(df_t, rules, match_threshold, target)\n",
    "            for k in ['TP', 'FP', 'TN', 'FN']:      \n",
    "                try:\n",
    "                    tmp = results[k]\n",
    "                except KeyError:# in case no predictions are done\n",
    "                    results[k] = 0\n",
    "            f = open(f\"../../Results/Classification_patterns/Results_{target}/Classifier_results{zone_str}{criticality_threshold if criticality_threshold != 3 else ''}_{interval}_with_filtering.csv\", \"a\")\n",
    "            f.write(f\"{test_ext.get_test_results(results, extraction, neighborhood, conf_threshold, match_threshold)}\")\n",
    "            f.close()"
   ]
  },
  {
   "cell_type": "code",
   "execution_count": 3,
   "id": "powered-forum",
   "metadata": {},
   "outputs": [],
   "source": [
    "#parameters\n",
    "support = 0.001\n",
    "interval = 30 #time window\n",
    "maxDelta = 3 #how many spatial deltas\n",
    "th = 0.5 #distance (seems in km)\n",
    "window_size = 3 #how many time deltas\n",
    "criticality_threshold = 3 #threshold for AlmostFull\n",
    "target = 'AlmostFull'\n",
    "\n",
    "neighborhood_type = 'indegree'\n",
    "n_neighbors = 10\n",
    "extraction_type = 'Full-Decrease' # Full-AlmostFull or Empty-AlmostEmpty or 'Full-Decrease' or 'Empty-Increase' or 'Full-Increase'\n",
    "incr_dec_threshold = 1 # 0 for threshold > 0\n",
    "wrap_states = True\n",
    "state_change = False\n",
    "time_zone = None\n",
    "extract_normal = True"
   ]
  },
  {
   "cell_type": "code",
   "execution_count": 4,
   "id": "integrated-jumping",
   "metadata": {},
   "outputs": [],
   "source": [
    "status_path  = \"datasets/SanFrancisco_status_train.csv\"\n",
    "#status_path = \"datasets/small_status.csv\"\n",
    "stations_path = \"bike_sharing/station.csv\"\n",
    "importance_path = \"../../Datasets/edge_importance.csv\"\n",
    "\n",
    "ext = Extractor(interval, maxDelta, th, window_size, status_path, stations_path, spark, sc, criticality_threshold)"
   ]
  },
  {
   "cell_type": "code",
   "execution_count": 4,
   "id": "communist-singer",
   "metadata": {},
   "outputs": [],
   "source": [
    "df = ext.extract_items(extraction_type=extraction_type, neighborhood_type=neighborhood_type,\n",
    "                       n_neighbors=n_neighbors, incr_dec_threshold=incr_dec_threshold, \n",
    "                       wrap_states=wrap_states, state_change=state_change, \n",
    "                       for_test=extract_normal, time_zone=time_zone,\n",
    "                       importance_path=importance_path)"
   ]
  },
  {
   "cell_type": "code",
   "execution_count": 5,
   "id": "bound-deputy",
   "metadata": {},
   "outputs": [],
   "source": [
    "support = 0.001\n",
    "prefix = ext.extract_frequent_items(df, support)"
   ]
  },
  {
   "cell_type": "code",
   "execution_count": 9,
   "id": "naked-suspect",
   "metadata": {},
   "outputs": [
    {
     "name": "stdout",
     "output_type": "stream",
     "text": [
      "../../Results/Classification_patterns/Full-Decrease_wrapped_WN/10_1_30_500_0.001(3-3).txt  saved successfully.\n"
     ]
    }
   ],
   "source": [
    "zone_str = f\"{time_zone}_\" if time_zone != None else ''\n",
    "output_file = f\"../../Results/Classification_patterns/{extraction_type}{'_wrapped' if wrap_states else ''}{'_stateChange' if state_change else ''}{'_WN' if extract_normal else ''}{criticality_threshold if criticality_threshold != 3 else ''}/{zone_str}{n_neighbors if neighborhood_type=='indegree' else 'Dist'}_{incr_dec_threshold}_{interval}_{int(th*1000)}_{support}({window_size}-{maxDelta}).txt\"\n",
    "\n",
    "if not os.path.exists(f\"../../Results/Classification_patterns/{extraction_type}{'_wrapped' if wrap_states else ''}{'_stateChange' if state_change else ''}{'_WN' if extract_normal else ''}{criticality_threshold if criticality_threshold != 3 else ''}/\"):\n",
    "    os.makedirs(f\"../../Results/Classification_patterns/{extraction_type}{'_wrapped' if wrap_states else ''}{'_stateChange' if state_change else ''}{'_WN' if extract_normal else ''}{criticality_threshold if criticality_threshold != 3 else ''}/\")\n",
    "\n",
    "ext.save_classification_patterns(prefix, output_file)"
   ]
  },
  {
   "cell_type": "code",
   "execution_count": 10,
   "id": "mature-manor",
   "metadata": {},
   "outputs": [
    {
     "name": "stdout",
     "output_type": "stream",
     "text": [
      "mkdir: `Classification_patterns/Full-Decrease_wrapped_WN': File exists\n"
     ]
    }
   ],
   "source": [
    "hdfs_dir = f\"./Classification_patterns/{extraction_type}{'_wrapped' if wrap_states else ''}{'_stateChange' if state_change else ''}{'_WN' if extract_normal else ''}{criticality_threshold if criticality_threshold != 3 else ''}/\"\n",
    "output_file_b = f\"../../Results/Classification_patterns/{extraction_type}{'_wrapped' if wrap_states else ''}{'_stateChange' if state_change else ''}{'_WN' if extract_normal else ''}{criticality_threshold if criticality_threshold != 3 else ''}/{zone_str}{n_neighbors if neighborhood_type=='indegree' else 'Dist'}_{incr_dec_threshold}_{interval}_{int(th*1000)}_{support}\\({window_size}-{maxDelta}\\).txt\"\n",
    "\n",
    "!hdfs dfs -mkdir $hdfs_dir\n",
    "!hdfs dfs -put $output_file_b $hdfs_dir"
   ]
  },
  {
   "cell_type": "code",
   "execution_count": 11,
   "id": "alien-soldier",
   "metadata": {},
   "outputs": [
    {
     "name": "stdout",
     "output_type": "stream",
     "text": [
      "Found 1 items\n",
      "-rw-r-----   3 s287791 students    2812043 2022-05-16 10:52 Classification_patterns/Full-Decrease_wrapped_WN/10_1_30_500_0.001(3-3).txt\n"
     ]
    }
   ],
   "source": [
    "!hdfs dfs -ls $hdfs_dir"
   ]
  },
  {
   "cell_type": "code",
   "execution_count": 9,
   "id": "complimentary-superior",
   "metadata": {},
   "outputs": [],
   "source": [
    "status_path_test  = \"datasets/SanFrancisco_status_test.csv\"\n",
    "\n",
    "test_ext = Extractor(interval, maxDelta, th, window_size, status_path_test, stations_path, spark, sc, criticality_threshold)\n",
    "df_t = test_ext.extract_items(extraction_type=extraction_type, neighborhood_type=neighborhood_type,\n",
    "                       n_neighbors=n_neighbors, incr_dec_threshold=incr_dec_threshold, \n",
    "                       wrap_states=wrap_states, state_change=state_change, for_test=True,\n",
    "                       time_zone=time_zone, importance_path=importance_path, drop_nulls=True)"
   ]
  },
  {
   "cell_type": "code",
   "execution_count": 28,
   "id": "another-translator",
   "metadata": {},
   "outputs": [
    {
     "name": "stdout",
     "output_type": "stream",
     "text": [
      "+---------------------------------------------------------------------------+\n",
      "|sequence                                                                   |\n",
      "+---------------------------------------------------------------------------+\n",
      "|[[Increase_T0_0, Normal_T0_0], [Normal_T1_0], [Normal_T2_0]]               |\n",
      "|[[Increase_T0_0, Normal_T0_0], [Normal_T1_0], [Increase_T2_0, Normal_T2_0]]|\n",
      "|[[Normal_T0_0], [Normal_T1_0], [Normal_T2_0]]                              |\n",
      "|[[Increase_T0_0, Normal_T0_0], [Normal_T1_0], [Increase_T2_0, Normal_T2_0]]|\n",
      "|[[Normal_T0_0], [Normal_T1_0], [Normal_T2_0]]                              |\n",
      "|[[Normal_T0_0], [Normal_T1_0], [Normal_T2_0]]                              |\n",
      "|[[Normal_T0_0], [Normal_T1_0], [Normal_T2_0]]                              |\n",
      "|[[Normal_T0_0], [Normal_T1_0], [Normal_T2_0]]                              |\n",
      "|[[Normal_T0_0], [Normal_T1_0], [Normal_T2_0]]                              |\n",
      "|[[Increase_T0_0, Normal_T0_0], [Increase_T1_0, Normal_T1_0], [Normal_T2_0]]|\n",
      "|[[Increase_T0_0, Normal_T0_0], [Normal_T1_0], [Normal_T2_0]]               |\n",
      "|[[Normal_T0_0], [Normal_T1_0], [Normal_T2_0]]                              |\n",
      "|[[Normal_T0_0], [Normal_T1_0], [Normal_T2_0]]                              |\n",
      "|[[Normal_T0_0], [Normal_T1_0], [Normal_T2_0]]                              |\n",
      "|[[Normal_T0_0], [Normal_T1_0], [Normal_T2_0]]                              |\n",
      "|[[Normal_T0_0], [Normal_T1_0], [Normal_T2_0]]                              |\n",
      "|[[Normal_T0_0], [Normal_T1_0], [Normal_T2_0]]                              |\n",
      "|[[Normal_T0_0], [Normal_T1_0], [Normal_T2_0]]                              |\n",
      "|[[Normal_T0_0], [Increase_T1_0, Normal_T1_0], [Normal_T2_0]]               |\n",
      "|[[Normal_T0_0], [Normal_T1_0], [Normal_T2_0]]                              |\n",
      "+---------------------------------------------------------------------------+\n",
      "only showing top 20 rows\n",
      "\n"
     ]
    }
   ],
   "source": [
    "df_t.show(20, False)"
   ]
  },
  {
   "cell_type": "code",
   "execution_count": 14,
   "id": "comparative-carroll",
   "metadata": {},
   "outputs": [
    {
     "name": "stdout",
     "output_type": "stream",
     "text": [
      "File:  ./Classification_patterns/Full-Decrease_wrapped_WN/10_1_30_500_0.001(3-3).txt\n"
     ]
    }
   ],
   "source": [
    "conf_thresholds = [0.5, 0.7, 0.8]\n",
    "sup_threshold = 0\n",
    "\n",
    "zone_str = f\"{time_zone}_\" if time_zone != None else ''\n",
    "patterns_file = f\"./Classification_patterns/{extraction_type}{'_wrapped' if wrap_states else ''}{'_stateChange' if state_change else ''}{'_WN' if extract_normal else ''}{criticality_threshold if criticality_threshold != 3 else ''}/{zone_str}{n_neighbors if neighborhood_type=='indegree' else 'Dist'}_{incr_dec_threshold}_{interval}_{int(th*1000)}_{support}({window_size}-{maxDelta}).txt\"\n",
    "print(\"File: \", patterns_file)\n",
    "\n",
    "for conf_threshold in conf_thresholds:\n",
    "    filtered_patterns = ext.filter_patterns_conf_sup(patterns_file, conf_threshold, sup_threshold, target=target)\n",
    "    rules = filtered_patterns.collect()\n",
    "    \n",
    "    extraction = f\"{extraction_type}{'_wrapped' if wrap_states else ''}{'_stateChange' if state_change else ''}{'_WN' if extract_normal else ''}\"\n",
    "    neighborhood = f\"{str(n_neighbors) if neighborhood_type=='indegree' else 'Dist'}\"\n",
    "    \n",
    "    if len(rules)==0:\n",
    "        break\n",
    "\n",
    "    for match_threshold in [1, 5]:\n",
    "        if len(rules) < match_threshold:\n",
    "            break\n",
    "        f = open(f\"../../Results/Classification_patterns/Results_{target}/Classifier_results{zone_str}{criticality_threshold if criticality_threshold != 3 else ''}_{interval}_with_filtering.csv\", \"a\")\n",
    "        results = test_ext.test_rules(df_t, rules, match_threshold)\n",
    "        f.write(f\"{test_ext.get_test_results(results, extraction, neighborhood, conf_threshold, match_threshold)}\")\n",
    "        f.close()"
   ]
  },
  {
   "cell_type": "code",
   "execution_count": 7,
   "id": "artificial-timber",
   "metadata": {},
   "outputs": [
    {
     "name": "stdout",
     "output_type": "stream",
     "text": [
      "File:  ./Classification_patterns/Full-Decrease_wrapped_WN/10_1_30_500_0.001(3-3).txt\n"
     ]
    },
    {
     "data": {
      "image/png": "[encoded data removed]",
      "text/plain": [
       "<Figure size 432x288 with 1 Axes>"
      ]
     },
     "metadata": {
      "needs_background": "light"
     },
     "output_type": "display_data"
    },
    {
     "data": {
      "image/png": "[encoded data removed]",
      "text/plain": [
       "<Figure size 432x288 with 1 Axes>"
      ]
     },
     "metadata": {
      "needs_background": "light"
     },
     "output_type": "display_data"
    },
    {
     "data": {
      "image/png": "[encoded data removed]",
      "text/plain": [
       "<Figure size 432x288 with 1 Axes>"
      ]
     },
     "metadata": {
      "needs_background": "light"
     },
     "output_type": "display_data"
    }
   ],
   "source": [
    "conf_threshold = 0.2\n",
    "sup_threshold = 0\n",
    "zone_str = f\"{time_zone}_\" if time_zone != None else ''\n",
    "patterns_file = f\"./Classification_patterns/{extraction_type}{'_wrapped' if wrap_states else ''}{'_stateChange' if state_change else ''}{'_WN' if extract_normal else ''}{criticality_threshold if criticality_threshold != 3 else ''}/{zone_str if time_zone != None else ''}{n_neighbors if neighborhood_type=='indegree' else 'Dist'}_{incr_dec_threshold}_{interval}_{int(th*1000)}_{support}({window_size}-{maxDelta}).txt\"\n",
    "\n",
    "print(\"File: \", patterns_file)\n",
    "\n",
    "filtered_patterns = ext.filter_patterns_conf_sup(patterns_file, conf_threshold, sup_threshold, target=target)\n",
    "ext.print_patterns_stats(filtered_patterns, conf_threshold)\n",
    "rules = filtered_patterns.collect()"
   ]
  },
  {
   "cell_type": "code",
   "execution_count": 70,
   "id": "conscious-share",
   "metadata": {},
   "outputs": [],
   "source": [
    "rules = [f\"[[[['{target}_T0_0'], ['{target}_T1_0']]], ['0 - 0']]\"]"
   ]
  },
  {
   "cell_type": "code",
   "execution_count": null,
   "id": "preliminary-burden",
   "metadata": {},
   "outputs": [],
   "source": [
    "rules"
   ]
  },
  {
   "cell_type": "code",
   "execution_count": null,
   "id": "fifty-sterling",
   "metadata": {},
   "outputs": [],
   "source": [
    "#extraction_type,neighborhood,confidence_threshold,match_threshold,accuracy,precision,recall,f1,TP,TN,FP,FN\n",
    "extraction = f\"{extraction_type}{'_wrapped' if wrap_states else ''}{'_stateChange' if state_change else ''}{'_WN' if extract_normal else ''}\"\n",
    "neighborhood = f\"{str(n_neighbors) if neighborhood_type=='indegree' else 'Dist'}\"\n",
    "\n",
    "for match_threshold in [1]:\n",
    "    f = open(f\"../../Results/Classification_patterns/Results_{target}/Classifier_results{zone_str}{criticality_threshold if criticality_threshold != 3 else ''}_{interval}_with_filtering.csv\", \"a\")\n",
    "    results = test_ext.test_rules(df_t, rules, match_threshold, target)\n",
    "    f.write(test_ext.get_test_results(results, \"Dummy\", neighborhood, conf_threshold, match_threshold))\n",
    "    f.close()"
   ]
  },
  {
   "cell_type": "code",
   "execution_count": null,
   "id": "fitted-learning",
   "metadata": {},
   "outputs": [],
   "source": [
    "print_test_results(results)"
   ]
  },
  {
   "cell_type": "code",
   "execution_count": null,
   "id": "connected-investor",
   "metadata": {},
   "outputs": [],
   "source": [
    "#test_ext.logga(df_t, rules).filter(lambda x:x!=None).saveAsTextFile('logs')"
   ]
  }
 ],
 "metadata": {
  "kernelspec": {
   "display_name": "PySpark (Yarn)",
   "language": "python",
   "name": "pyspark_yarn"
  },
  "language_info": {
   "codemirror_mode": {
    "name": "ipython",
    "version": 3
   },
   "file_extension": ".py",
   "mimetype": "text/x-python",
   "name": "python",
   "nbconvert_exporter": "python",
   "pygments_lexer": "ipython3",
   "version": "3.7.9"
  }
 },
 "nbformat": 4,
 "nbformat_minor": 5
}
