{
 "cells": [
  {
   "cell_type": "code",
   "execution_count": 18,
   "id": "double-likelihood",
   "metadata": {},
   "outputs": [],
   "source": [
    "def print_test_results(results):\n",
    "    total = sum(results.values())\n",
    "    precision = results['TP']/(results['TP']+results['FP'])\n",
    "    recall = results['TP']/(results['TP']+results['FN'])\n",
    "    \n",
    "    print(results, '\\n')\n",
    "    \n",
    "    print(\"Accuracy score:\")\n",
    "    print(f\"{(results['TP']+results['TN'])/total}\\n\")\n",
    "    \n",
    "    print(\"Precision score:\")\n",
    "    print(f\"{precision}\\n\")\n",
    "    \n",
    "    print(\"Recall score:\")\n",
    "    print(f\"{recall}\\n\")\n",
    "    \n",
    "    print(\"F1 score:\")\n",
    "    print(f\"{2*precision*recall/(precision+recall)}\\n\")"
   ]
  },
  {
   "cell_type": "code",
   "execution_count": 1,
   "id": "revolutionary-danish",
   "metadata": {},
   "outputs": [
    {
     "name": "stderr",
     "output_type": "stream",
     "text": [
      "\n",
      "Bad key \"text.kerning_factor\" on line 4 in\n",
      "/opt/anaconda3/envs/bigdatalab_cpu_202101/lib/python3.7/site-packages/matplotlib/mpl-data/stylelib/_classic_test_patch.mplstyle.\n",
      "You probably need to get an updated matplotlibrc file from\n",
      "https://github.com/matplotlib/matplotlib/blob/v3.1.2/matplotlibrc.template\n",
      "or from the matplotlib source distribution\n"
     ]
    }
   ],
   "source": [
    "sc.addPyFile(\"../Pattern_extraction/Pattern_Extractor.py\")\n",
    "sc.addPyFile(\"../Pattern_extraction/Additional_tools.py\")\n",
    "\n",
    "\n",
    "import time\n",
    "from Pattern_Extractor import Pattern_Extractor as Extractor\n",
    "import os"
   ]
  },
  {
   "cell_type": "code",
   "execution_count": 78,
   "id": "congressional-invalid",
   "metadata": {},
   "outputs": [],
   "source": [
    "#parameters\n",
    "support = 0.001\n",
    "interval = 30 #time window\n",
    "maxDelta = 3 #how many spatial deltas\n",
    "th = 0.5 #distance (seems in km)\n",
    "window_size = 3 #how many time deltas\n",
    "\n",
    "neighborhood_type = 'indegree'\n",
    "n_neighbors = 20\n",
    "extraction_type = 'Full-Decrease' # Full-AlmostFull or Empty-AlmostEmpty or 'Full-Decrease' or 'Empty-Increase'\n",
    "incr_dec_threshold = 1 # 0 for threshold > 0\n",
    "wrap_states=True\n",
    "state_change = False"
   ]
  },
  {
   "cell_type": "code",
   "execution_count": 79,
   "id": "alleged-creativity",
   "metadata": {},
   "outputs": [],
   "source": [
    "status_path  = \"datasets/SanFrancisco_status_train.csv\" \n",
    "stations_path = \"bike_sharing/station.csv\"\n",
    "\n",
    "ext = Extractor(interval, maxDelta, th, window_size, status_path, stations_path, spark, sc)"
   ]
  },
  {
   "cell_type": "code",
   "execution_count": 80,
   "id": "floral-apache",
   "metadata": {},
   "outputs": [],
   "source": [
    "df = ext.extract_items(extraction_type=extraction_type, neighborhood_type=neighborhood_type,\n",
    "                       n_neighbors=n_neighbors, incr_dec_threshold=incr_dec_threshold, \n",
    "                       wrap_states=wrap_states, state_change=state_change)"
   ]
  },
  {
   "cell_type": "code",
   "execution_count": 81,
   "id": "extreme-advisory",
   "metadata": {},
   "outputs": [],
   "source": [
    "support = 0.001\n",
    "prefix = ext.extract_frequent_items(df, support)"
   ]
  },
  {
   "cell_type": "code",
   "execution_count": 82,
   "id": "located-career",
   "metadata": {},
   "outputs": [
    {
     "name": "stdout",
     "output_type": "stream",
     "text": [
      "../../Results/Classification_patterns/Full-Decrease_wrapped/20_1_30_500_0.001(3-3).txt  saved successfully.\n"
     ]
    }
   ],
   "source": [
    "output_file = f\"../../Results/Classification_patterns/{extraction_type}{'_wrapped' if wrap_states else ''}{'_stateChange' if state_change else ''}/{n_neighbors if neighborhood_type=='indegree' else 'Dist'}_{incr_dec_threshold}_{interval}_{int(th*1000)}_{support}({window_size}-{maxDelta}).txt\"\n",
    "\n",
    "if not os.path.exists(f\"../../Results/Classification_patterns/{extraction_type}{'_wrapped' if wrap_states else ''}{'_stateChange' if state_change else ''}/\"):\n",
    "    os.makedirs(f\"../../Results/Classification_patterns/{extraction_type}{'_wrapped' if wrap_states else ''}{'_stateChange' if state_change else ''}/\")\n",
    "\n",
    "ext.save_classification_patterns(prefix, output_file)"
   ]
  },
  {
   "cell_type": "code",
   "execution_count": 83,
   "id": "abandoned-arkansas",
   "metadata": {},
   "outputs": [],
   "source": [
    "# next directories needs to be modified every time\n",
    "\n",
    "#!hdfs dfs -mkdir ./Classification_patterns/Full-Decrease_wrapped/\n",
    "!hdfs dfs -put \"../../Results/Classification_patterns/Full-Decrease_wrapped/20_1_30_500_0.001(3-3).txt\" ./Classification_patterns/Full-Decrease_wrapped/"
   ]
  },
  {
   "cell_type": "code",
   "execution_count": 84,
   "id": "alleged-stack",
   "metadata": {},
   "outputs": [
    {
     "name": "stdout",
     "output_type": "stream",
     "text": [
      "Found 4 items\n",
      "-rw-r-----   3 s287791 students    2155593 2022-04-13 08:50 Classification_patterns/Full-Decrease_wrapped/10_1_30_500_0.001(3-3).txt\n",
      "-rw-r-----   3 s287791 students    3193040 2022-04-13 10:30 Classification_patterns/Full-Decrease_wrapped/20_1_30_500_0.001(3-3).txt\n",
      "-rw-r-----   3 s287791 students    1010090 2022-04-13 10:03 Classification_patterns/Full-Decrease_wrapped/5_1_30_500_0.001(3-3).txt\n",
      "-rw-r-----   3 s287791 students     296564 2022-04-13 09:45 Classification_patterns/Full-Decrease_wrapped/Dist_1_30_500_0.001(3-3).txt\n"
     ]
    }
   ],
   "source": [
    "!hdfs dfs -ls Classification_patterns/Full-Decrease_wrapped"
   ]
  },
  {
   "cell_type": "code",
   "execution_count": 85,
   "id": "south-money",
   "metadata": {},
   "outputs": [],
   "source": [
    "status_path_test  = \"datasets/SanFrancisco_status_test.csv\"\n",
    "\n",
    "test_ext = Extractor(interval, maxDelta, th, window_size, status_path_test, stations_path, spark, sc)\n",
    "df_t = test_ext.extract_items(extraction_type=extraction_type, neighborhood_type=neighborhood_type,\n",
    "                       n_neighbors=n_neighbors, incr_dec_threshold=incr_dec_threshold, \n",
    "                       wrap_states=wrap_states, state_change=state_change, for_test=True)"
   ]
  },
  {
   "cell_type": "code",
   "execution_count": 96,
   "id": "enormous-voluntary",
   "metadata": {},
   "outputs": [
    {
     "name": "stdout",
     "output_type": "stream",
     "text": [
      "File:  ./Classification_patterns/Full-Decrease_wrapped/20_1_30_500_0.001(3-3).txt\n"
     ]
    },
    {
     "data": {
      "image/png": "[encoded data removed]",
      "text/plain": [
       "<Figure size 432x288 with 1 Axes>"
      ]
     },
     "metadata": {
      "needs_background": "light"
     },
     "output_type": "display_data"
    },
    {
     "data": {
      "image/png": "[encoded data removed]",
      "text/plain": [
       "<Figure size 432x288 with 1 Axes>"
      ]
     },
     "metadata": {
      "needs_background": "light"
     },
     "output_type": "display_data"
    },
    {
     "data": {
      "image/png": "[encoded data removed]",
      "text/plain": [
       "<Figure size 432x288 with 1 Axes>"
      ]
     },
     "metadata": {
      "needs_background": "light"
     },
     "output_type": "display_data"
    }
   ],
   "source": [
    "# remember to change patterns file\n",
    "conf_threshold = 0.8\n",
    "sup_threshold = 0\n",
    "patterns_file = f\"./Classification_patterns/{extraction_type}{'_wrapped' if wrap_states else ''}{'_stateChange' if state_change else ''}/{n_neighbors if neighborhood_type=='indegree' else 'Dist'}_{incr_dec_threshold}_{interval}_{int(th*1000)}_{support}({window_size}-{maxDelta}).txt\"\n",
    "\n",
    "print(\"File: \", patterns_file)\n",
    "\n",
    "filtered_patterns = ext.filter_patterns_conf_sup(patterns_file, conf_threshold, sup_threshold, target='AlmostFull')\n",
    "ext.print_patterns_stats(filtered_patterns)\n",
    "rules = filtered_patterns.collect()"
   ]
  },
  {
   "cell_type": "code",
   "execution_count": 97,
   "id": "naked-cookie",
   "metadata": {},
   "outputs": [],
   "source": [
    "results = test_ext.test_rules(df_t, rules)"
   ]
  },
  {
   "cell_type": "code",
   "execution_count": 98,
   "id": "official-cookie",
   "metadata": {},
   "outputs": [
    {
     "name": "stdout",
     "output_type": "stream",
     "text": [
      "{'TP': 9847, 'FN': 15870, 'FP': 18431, 'TN': 323782} \n",
      "\n",
      "Accuracy score:\n",
      "0.9067730274780529\n",
      "\n",
      "Precision score:\n",
      "0.3482212320531862\n",
      "\n",
      "Recall score:\n",
      "0.3828984718279737\n",
      "\n",
      "F1 score:\n",
      "0.3647374756921937\n",
      "\n"
     ]
    }
   ],
   "source": [
    "print_test_results(results)"
   ]
  },
  {
   "cell_type": "markdown",
   "id": "robust-france",
   "metadata": {},
   "source": [
    "# Experimental results\n",
    "\n",
    "$$patterns_file = \"./Classification_patterns/Full-Decrease_wrapped/5_1_30_500_0.001(3-3).txt\"$$\n",
    "\n",
    "$conf threshold = 0.5\n",
    "sup threshold = 0$\n",
    "\n",
    "Accuracy score:\n",
    "0.37735305469034536\n",
    "\n",
    "Precision score:\n",
    "0.09996774092024927\n",
    "\n",
    "Recall score:\n",
    "0.9880628353682246\n",
    "\n",
    "F1 score:\n",
    "0.18156550319745632\n",
    "\n",
    "$conf threshold = 0.7\n",
    "sup threshold = 0$\n",
    "\n",
    "Accuracy score:\n",
    "0.47407359088512363\n",
    "\n",
    "Precision score:\n",
    "0.11541776306741604\n",
    "\n",
    "Recall score:\n",
    "0.9789641496228323\n",
    "\n",
    "F1 score:\n",
    "0.20649071583229447\n",
    "\n",
    "$$patterns_file = \"./Classification_patterns/Full-Decrease_wrapped/10_1_30_500_0.001(3-3).txt\"$$\n",
    "\n",
    "$conf threshold = 0.5\n",
    "sup threshold = 0$\n",
    "\n",
    "Accuracy score:\n",
    "0.31530539859592477\n",
    "\n",
    "Precision score:\n",
    "0.0920907418761496\n",
    "\n",
    "Recall score:\n",
    "0.9928840844577517\n",
    "\n",
    "F1 score:\n",
    "0.16854848557858917\n",
    "\n",
    "$conf threshold = 0.7\n",
    "sup threshold = 0$\n",
    "\n",
    "Accuracy score:\n",
    "0.5300968393358502\n",
    "\n",
    "Precision score:\n",
    "0.12683698617633038\n",
    "\n",
    "Recall score:\n",
    "0.9725862270093713\n",
    "\n",
    "F1 score:\n",
    "0.22440840679182647\n",
    "\n",
    "$$patterns_file = \"./Classification_patterns/Full-Decrease_wrapped/20_1_30_500_0.001(3-3).txt\"$$\n",
    "\n",
    "$conf threshold = 0.5\n",
    "sup threshold = 0$\n",
    "\n",
    "Accuracy score:\n",
    "0.2598700839833664\n",
    "\n",
    "Precision score:\n",
    "0.08602240792906282\n",
    "\n",
    "Recall score:\n",
    "0.9962670606991484\n",
    "\n",
    "F1 score:\n",
    "0.15837036945462638\n",
    "\n",
    "$conf threshold = 0.7\n",
    "sup threshold = 0$\n",
    "\n",
    "Accuracy score:\n",
    "0.35042535264860164\n",
    "\n",
    "Precision score:\n",
    "0.09647904644782897\n",
    "\n",
    "Recall score:\n",
    "0.9914453474355485\n",
    "\n",
    "F1 score:\n",
    "0.17584623024083423\n",
    "\n",
    "$conf threshold = 0.8\n",
    "sup threshold = 0$\n",
    "\n",
    "Accuracy score:\n",
    "0.9067730274780529\n",
    "\n",
    "Precision score:\n",
    "0.3482212320531862\n",
    "\n",
    "Recall score:\n",
    "0.3828984718279737\n",
    "\n",
    "F1 score:\n",
    "0.3647374756921937\n",
    "\n",
    "$$patterns_file = \"./Classification_patterns/Full-Decrease_wrapped/Dist_1_30_500_0.001(3-3).txt\"$$\n",
    "\n",
    "$conf threshold = 0.5\n",
    "sup threshold = 0$\n",
    "\n",
    "Accuracy score:\n",
    "0.28953061723697443\n",
    "\n",
    "Precision score:\n",
    "0.08915671891560216\n",
    "\n",
    "Recall score:\n",
    "0.9944005910487226\n",
    "\n",
    "F1 score:\n",
    "0.16364154100637018\n",
    "\n",
    "$conf threshold = 0.7\n",
    "sup threshold = 0$\n",
    "\n",
    "Accuracy score:\n",
    "0.37067105155872043\n",
    "\n",
    "Precision score:\n",
    "0.09913685653745481\n",
    "\n",
    "Recall score:\n",
    "0.9896955321382743\n",
    "\n",
    "F1 score:\n",
    "0.18022113413559068\n",
    "\n",
    "$$patterns_file = \"./Classification_patterns/Full-Decrease_wrapped_stateChange/10_1_30_500_0.001(3-3).txt\"$$\n",
    "$conf threshold = 0.5\n",
    "sup threshold = 0$\n",
    "\n",
    "No rules survive\n",
    "\n",
    "$$patterns_file = \"./Classification_patterns/Full-Decrease_wrapped_stateChange_Dist/10_1_30_500_0.001(3-3).txt\"$$\n",
    "$conf threshold = 0.5\n",
    "sup threshold = 0$\n",
    "\n",
    "No rules survive"
   ]
  }
 ],
 "metadata": {
  "kernelspec": {
   "display_name": "PySpark (Yarn)",
   "language": "python",
   "name": "pyspark_yarn"
  },
  "language_info": {
   "codemirror_mode": {
    "name": "ipython",
    "version": 3
   },
   "file_extension": ".py",
   "mimetype": "text/x-python",
   "name": "python",
   "nbconvert_exporter": "python",
   "pygments_lexer": "ipython3",
   "version": "3.7.9"
  }
 },
 "nbformat": 4,
 "nbformat_minor": 5
}
