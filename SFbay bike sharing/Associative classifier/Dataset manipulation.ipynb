{
 "cells": [
  {
   "cell_type": "markdown",
   "id": "concrete-structure",
   "metadata": {},
   "source": [
    "Credits: https://github.com/GiuseppeMoscarelli/Tesi_Associative_Classifier"
   ]
  },
  {
   "cell_type": "code",
   "execution_count": 4,
   "id": "blank-consciousness",
   "metadata": {},
   "outputs": [],
   "source": [
    "import pandas as pd\n",
    "import os"
   ]
  },
  {
   "cell_type": "code",
   "execution_count": null,
   "id": "continental-system",
   "metadata": {},
   "outputs": [],
   "source": [
    "status_path = '../../Data/filtered_status.csv'\n",
    "stations_path = '../../Data/station.csv'\n",
    "status_df = pd.read_csv(status_path, parse_dates=['time'])\n",
    "stations_df = pd.read_csv(stations_path)"
   ]
  },
  {
   "cell_type": "code",
   "execution_count": 3,
   "id": "fitted-ministry",
   "metadata": {},
   "outputs": [],
   "source": [
    "#il seguente vettore è stato ottenuto in analisi fatte precedentemente. \n",
    "SFancisco_stations = [41, 42, 45, 46, 47, 48, 49, 50, 51, 39, 54, 55, 56, 57, 58, 59, 60, \n",
    "                      61, 62, 63, 64, 65, 66, 67, 68, 69, 70, 71, 72, 73, 74, 75, 76, 77, 82]\n",
    "\n",
    "SanFrancisco_status = status_df[status_df['station_id'].isin(SFancisco_stations)]"
   ]
  },
  {
   "cell_type": "code",
   "execution_count": 8,
   "id": "binding-juice",
   "metadata": {},
   "outputs": [],
   "source": [
    "split_date = \"2015-03-09 09:30:00\"\n",
    "\n",
    "train_df = SanFrancisco_status[SanFrancisco_status['time'] < split_date]\n",
    "test_df = SanFrancisco_status[SanFrancisco_status['time'] >= split_date]\n",
    "\n",
    "if not os.path.exists(\"../../Datasets\"):\n",
    "    os.makedirs(\"../../Datasets\")\n",
    "\n",
    "train_df.to_csv(\"../../Datasets/SanFrancisco_status_train.csv\", index=False)\n",
    "test_df.to_csv(\"../../Datasets/SanFrancisco_status_test.csv\", index=False)"
   ]
  },
  {
   "cell_type": "code",
   "execution_count": 10,
   "id": "subject-productivity",
   "metadata": {},
   "outputs": [
    {
     "data": {
      "text/plain": [
       "array([41, 42, 45, 46, 47, 48, 49, 50, 51, 39, 54, 55, 56, 57, 58, 59, 60,\n",
       "       61, 62, 63, 64, 65, 66, 67, 68, 69, 70, 71, 72, 73, 74, 75, 76, 77,\n",
       "       82])"
      ]
     },
     "execution_count": 10,
     "metadata": {},
     "output_type": "execute_result"
    }
   ],
   "source": [
    "train_df['station_id'].unique()"
   ]
  },
  {
   "cell_type": "code",
   "execution_count": 11,
   "id": "outside-behalf",
   "metadata": {},
   "outputs": [
    {
     "data": {
      "text/plain": [
       "array([41, 42, 45, 46, 47, 48, 49, 50, 51, 39, 54, 55, 56, 57, 58, 59, 60,\n",
       "       61, 62, 63, 64, 65, 66, 67, 68, 69, 70, 71, 72, 73, 74, 75, 76, 77,\n",
       "       82])"
      ]
     },
     "execution_count": 11,
     "metadata": {},
     "output_type": "execute_result"
    }
   ],
   "source": [
    "test_df['station_id'].unique()"
   ]
  }
 ],
 "metadata": {
  "kernelspec": {
   "display_name": "PySpark (Local)",
   "language": "python",
   "name": "pyspark_local"
  },
  "language_info": {
   "codemirror_mode": {
    "name": "ipython",
    "version": 3
   },
   "file_extension": ".py",
   "mimetype": "text/x-python",
   "name": "python",
   "nbconvert_exporter": "python",
   "pygments_lexer": "ipython3",
   "version": "3.7.9"
  }
 },
 "nbformat": 4,
 "nbformat_minor": 5
}
