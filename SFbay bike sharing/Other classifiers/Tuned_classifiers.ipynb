{
 "cells": [
  {
   "cell_type": "code",
   "execution_count": 1,
   "id": "front-opinion",
   "metadata": {},
   "outputs": [
    {
     "name": "stderr",
     "output_type": "stream",
     "text": [
      "\n",
      "Bad key \"text.kerning_factor\" on line 4 in\n",
      "/opt/anaconda3/envs/bigdatalab_cpu_202101/lib/python3.7/site-packages/matplotlib/mpl-data/stylelib/_classic_test_patch.mplstyle.\n",
      "You probably need to get an updated matplotlibrc file from\n",
      "https://github.com/matplotlib/matplotlib/blob/v3.1.2/matplotlibrc.template\n",
      "or from the matplotlib source distribution\n"
     ]
    }
   ],
   "source": [
    "import pandas as pd\n",
    "import numpy as np\n",
    "import matplotlib.pyplot as plt\n",
    "import datetime as dt\n",
    "import xgboost as xgb\n",
    "from sklearn.metrics import mean_squared_error\n",
    "from scipy.ndimage.interpolation import shift\n",
    "from math import sin, cos, sqrt, atan2, radians \n",
    "from sklearn import tree, svm, linear_model, ensemble, neighbors, naive_bayes \n",
    "import dateutil\n",
    "import os\n",
    "from joblib import dump, load\n",
    "from sklearn.metrics import confusion_matrix, plot_confusion_matrix\n",
    "from sklearn.model_selection import GridSearchCV, RandomizedSearchCV\n",
    "from sklearn.metrics import f1_score, recall_score, precision_score\n",
    "from sklearn.metrics import make_scorer"
   ]
  },
  {
   "cell_type": "code",
   "execution_count": 2,
   "id": "rough-destiny",
   "metadata": {},
   "outputs": [],
   "source": [
    "stations_path = '../../Data/station.csv'\n",
    "\n",
    "stations_df = pd.read_csv(stations_path)\n",
    "San_Fancisco_stations = stations_df[stations_df['city'] == 'San Francisco']['id'].unique()"
   ]
  },
  {
   "cell_type": "code",
   "execution_count": 3,
   "id": "institutional-karma",
   "metadata": {},
   "outputs": [],
   "source": [
    "interval = 15\n",
    "window_width = 3\n",
    "time_zone = '17-18'\n",
    "zone_str = f\"_{time_zone}\" if time_zone != None else \"\""
   ]
  },
  {
   "cell_type": "code",
   "execution_count": 4,
   "id": "worthy-agent",
   "metadata": {},
   "outputs": [],
   "source": [
    "classifiers = {\n",
    "    'DecisionTree': tree.DecisionTreeClassifier(random_state=42),   \n",
    "    'RandomForest': ensemble.RandomForestClassifier(random_state=42, max_features='sqrt'),\n",
    "    'XGBoost':  xgb.XGBClassifier(random_state=42)\n",
    "}"
   ]
  },
  {
   "cell_type": "code",
   "execution_count": 5,
   "id": "prerequisite-supplier",
   "metadata": {},
   "outputs": [],
   "source": [
    "decision_tree_parameters = {\n",
    "    'max_depth': list(range(2, 6)),\n",
    "    'min_samples_split': list(range(2, 7)),\n",
    "    'criterion' : ['gini', 'entropy'],\n",
    "    'class_weight': [None, 'balanced']\n",
    "}\n",
    "\n",
    "random_forest_parameters = {\n",
    "    'n_estimators': [10, 100, 1000],\n",
    "    'criterion' : ['gini', 'entropy'],\n",
    "    'max_depth': list(range(2, 6)), \n",
    "    'min_samples_split': list(range(0, 5)), \n",
    "    'class_weight': [None, 'balanced']\n",
    "}\n",
    "\n",
    "xgboost_parameters = {\n",
    "    'n_estimators': [10, 100, 1000],\n",
    "    'max_depth': list(range(2, 6)),\n",
    "}\n",
    "\n",
    "classifiers_parameters = {\n",
    "    'DecisionTree': decision_tree_parameters,\n",
    "    'RandomForest': random_forest_parameters,\n",
    "    'XGBoost': xgboost_parameters\n",
    "}"
   ]
  },
  {
   "cell_type": "code",
   "execution_count": 6,
   "id": "periodic-windows",
   "metadata": {},
   "outputs": [
    {
     "name": "stdout",
     "output_type": "stream",
     "text": [
      "Station: 41\n"
     ]
    },
    {
     "name": "stderr",
     "output_type": "stream",
     "text": [
      "/opt/anaconda3/envs/bigdatalab_cpu_202101/lib/python3.7/site-packages/sklearn/model_selection/_split.py:672: UserWarning: The least populated class in y has only 1 members, which is less than n_splits=3.\n",
      "  % (min_groups, self.n_splits)), UserWarning)\n",
      "/opt/anaconda3/envs/bigdatalab_cpu_202101/lib/python3.7/site-packages/sklearn/model_selection/_split.py:672: UserWarning: The least populated class in y has only 1 members, which is less than n_splits=3.\n",
      "  % (min_groups, self.n_splits)), UserWarning)\n",
      "/opt/anaconda3/envs/bigdatalab_cpu_202101/lib/python3.7/site-packages/sklearn/model_selection/_split.py:672: UserWarning: The least populated class in y has only 1 members, which is less than n_splits=3.\n",
      "  % (min_groups, self.n_splits)), UserWarning)\n",
      "/opt/anaconda3/envs/bigdatalab_cpu_202101/lib/python3.7/site-packages/sklearn/model_selection/_split.py:672: UserWarning: The least populated class in y has only 1 members, which is less than n_splits=3.\n",
      "  % (min_groups, self.n_splits)), UserWarning)\n",
      "/opt/anaconda3/envs/bigdatalab_cpu_202101/lib/python3.7/site-packages/sklearn/model_selection/_split.py:672: UserWarning: The least populated class in y has only 1 members, which is less than n_splits=3.\n",
      "  % (min_groups, self.n_splits)), UserWarning)\n",
      "/opt/anaconda3/envs/bigdatalab_cpu_202101/lib/python3.7/site-packages/sklearn/model_selection/_split.py:672: UserWarning: The least populated class in y has only 1 members, which is less than n_splits=3.\n",
      "  % (min_groups, self.n_splits)), UserWarning)\n",
      "/opt/anaconda3/envs/bigdatalab_cpu_202101/lib/python3.7/site-packages/sklearn/model_selection/_split.py:672: UserWarning: The least populated class in y has only 1 members, which is less than n_splits=3.\n",
      "  % (min_groups, self.n_splits)), UserWarning)\n",
      "/opt/anaconda3/envs/bigdatalab_cpu_202101/lib/python3.7/site-packages/sklearn/model_selection/_split.py:672: UserWarning: The least populated class in y has only 1 members, which is less than n_splits=3.\n",
      "  % (min_groups, self.n_splits)), UserWarning)\n",
      "/opt/anaconda3/envs/bigdatalab_cpu_202101/lib/python3.7/site-packages/sklearn/model_selection/_split.py:672: UserWarning: The least populated class in y has only 1 members, which is less than n_splits=3.\n",
      "  % (min_groups, self.n_splits)), UserWarning)\n"
     ]
    },
    {
     "name": "stdout",
     "output_type": "stream",
     "text": [
      "Station: 42\n",
      "Station: 45\n",
      "Station: 46\n",
      "Station: 47\n",
      "Station: 48\n",
      "Station: 49\n",
      "Station: 50\n",
      "Station: 51\n",
      "Station: 39\n",
      "Station: 54\n",
      "Station: 55\n",
      "Station: 56\n"
     ]
    },
    {
     "name": "stderr",
     "output_type": "stream",
     "text": [
      "/opt/anaconda3/envs/bigdatalab_cpu_202101/lib/python3.7/site-packages/sklearn/model_selection/_split.py:672: UserWarning: The least populated class in y has only 2 members, which is less than n_splits=3.\n",
      "  % (min_groups, self.n_splits)), UserWarning)\n",
      "/opt/anaconda3/envs/bigdatalab_cpu_202101/lib/python3.7/site-packages/sklearn/model_selection/_split.py:672: UserWarning: The least populated class in y has only 2 members, which is less than n_splits=3.\n",
      "  % (min_groups, self.n_splits)), UserWarning)\n",
      "/opt/anaconda3/envs/bigdatalab_cpu_202101/lib/python3.7/site-packages/sklearn/model_selection/_split.py:672: UserWarning: The least populated class in y has only 2 members, which is less than n_splits=3.\n",
      "  % (min_groups, self.n_splits)), UserWarning)\n",
      "/opt/anaconda3/envs/bigdatalab_cpu_202101/lib/python3.7/site-packages/sklearn/model_selection/_split.py:672: UserWarning: The least populated class in y has only 2 members, which is less than n_splits=3.\n",
      "  % (min_groups, self.n_splits)), UserWarning)\n",
      "/opt/anaconda3/envs/bigdatalab_cpu_202101/lib/python3.7/site-packages/sklearn/model_selection/_split.py:672: UserWarning: The least populated class in y has only 2 members, which is less than n_splits=3.\n",
      "  % (min_groups, self.n_splits)), UserWarning)\n",
      "/opt/anaconda3/envs/bigdatalab_cpu_202101/lib/python3.7/site-packages/sklearn/model_selection/_split.py:672: UserWarning: The least populated class in y has only 2 members, which is less than n_splits=3.\n",
      "  % (min_groups, self.n_splits)), UserWarning)\n",
      "/opt/anaconda3/envs/bigdatalab_cpu_202101/lib/python3.7/site-packages/sklearn/model_selection/_split.py:672: UserWarning: The least populated class in y has only 2 members, which is less than n_splits=3.\n",
      "  % (min_groups, self.n_splits)), UserWarning)\n",
      "/opt/anaconda3/envs/bigdatalab_cpu_202101/lib/python3.7/site-packages/sklearn/model_selection/_split.py:672: UserWarning: The least populated class in y has only 2 members, which is less than n_splits=3.\n",
      "  % (min_groups, self.n_splits)), UserWarning)\n",
      "/opt/anaconda3/envs/bigdatalab_cpu_202101/lib/python3.7/site-packages/sklearn/model_selection/_split.py:672: UserWarning: The least populated class in y has only 2 members, which is less than n_splits=3.\n",
      "  % (min_groups, self.n_splits)), UserWarning)\n"
     ]
    },
    {
     "name": "stdout",
     "output_type": "stream",
     "text": [
      "Station: 57\n",
      "Station: 58\n",
      "Station: 59\n",
      "Station: 60\n",
      "Station: 61\n",
      "Station: 62\n"
     ]
    },
    {
     "name": "stderr",
     "output_type": "stream",
     "text": [
      "/opt/anaconda3/envs/bigdatalab_cpu_202101/lib/python3.7/site-packages/sklearn/model_selection/_split.py:672: UserWarning: The least populated class in y has only 1 members, which is less than n_splits=3.\n",
      "  % (min_groups, self.n_splits)), UserWarning)\n",
      "/opt/anaconda3/envs/bigdatalab_cpu_202101/lib/python3.7/site-packages/sklearn/model_selection/_split.py:672: UserWarning: The least populated class in y has only 1 members, which is less than n_splits=3.\n",
      "  % (min_groups, self.n_splits)), UserWarning)\n",
      "/opt/anaconda3/envs/bigdatalab_cpu_202101/lib/python3.7/site-packages/sklearn/model_selection/_split.py:672: UserWarning: The least populated class in y has only 1 members, which is less than n_splits=3.\n",
      "  % (min_groups, self.n_splits)), UserWarning)\n",
      "/opt/anaconda3/envs/bigdatalab_cpu_202101/lib/python3.7/site-packages/sklearn/model_selection/_split.py:672: UserWarning: The least populated class in y has only 1 members, which is less than n_splits=3.\n",
      "  % (min_groups, self.n_splits)), UserWarning)\n",
      "/opt/anaconda3/envs/bigdatalab_cpu_202101/lib/python3.7/site-packages/sklearn/model_selection/_split.py:672: UserWarning: The least populated class in y has only 1 members, which is less than n_splits=3.\n",
      "  % (min_groups, self.n_splits)), UserWarning)\n",
      "/opt/anaconda3/envs/bigdatalab_cpu_202101/lib/python3.7/site-packages/sklearn/model_selection/_split.py:672: UserWarning: The least populated class in y has only 1 members, which is less than n_splits=3.\n",
      "  % (min_groups, self.n_splits)), UserWarning)\n",
      "/opt/anaconda3/envs/bigdatalab_cpu_202101/lib/python3.7/site-packages/sklearn/model_selection/_split.py:672: UserWarning: The least populated class in y has only 1 members, which is less than n_splits=3.\n",
      "  % (min_groups, self.n_splits)), UserWarning)\n",
      "/opt/anaconda3/envs/bigdatalab_cpu_202101/lib/python3.7/site-packages/sklearn/model_selection/_split.py:672: UserWarning: The least populated class in y has only 1 members, which is less than n_splits=3.\n",
      "  % (min_groups, self.n_splits)), UserWarning)\n",
      "/opt/anaconda3/envs/bigdatalab_cpu_202101/lib/python3.7/site-packages/sklearn/model_selection/_split.py:672: UserWarning: The least populated class in y has only 1 members, which is less than n_splits=3.\n",
      "  % (min_groups, self.n_splits)), UserWarning)\n"
     ]
    },
    {
     "name": "stdout",
     "output_type": "stream",
     "text": [
      "Station: 63\n"
     ]
    },
    {
     "name": "stderr",
     "output_type": "stream",
     "text": [
      "/opt/anaconda3/envs/bigdatalab_cpu_202101/lib/python3.7/site-packages/sklearn/model_selection/_split.py:672: UserWarning: The least populated class in y has only 1 members, which is less than n_splits=3.\n",
      "  % (min_groups, self.n_splits)), UserWarning)\n",
      "/opt/anaconda3/envs/bigdatalab_cpu_202101/lib/python3.7/site-packages/sklearn/model_selection/_split.py:672: UserWarning: The least populated class in y has only 1 members, which is less than n_splits=3.\n",
      "  % (min_groups, self.n_splits)), UserWarning)\n",
      "/opt/anaconda3/envs/bigdatalab_cpu_202101/lib/python3.7/site-packages/sklearn/model_selection/_split.py:672: UserWarning: The least populated class in y has only 1 members, which is less than n_splits=3.\n",
      "  % (min_groups, self.n_splits)), UserWarning)\n",
      "/opt/anaconda3/envs/bigdatalab_cpu_202101/lib/python3.7/site-packages/sklearn/model_selection/_split.py:672: UserWarning: The least populated class in y has only 1 members, which is less than n_splits=3.\n",
      "  % (min_groups, self.n_splits)), UserWarning)\n",
      "/opt/anaconda3/envs/bigdatalab_cpu_202101/lib/python3.7/site-packages/sklearn/model_selection/_split.py:672: UserWarning: The least populated class in y has only 1 members, which is less than n_splits=3.\n",
      "  % (min_groups, self.n_splits)), UserWarning)\n",
      "/opt/anaconda3/envs/bigdatalab_cpu_202101/lib/python3.7/site-packages/sklearn/model_selection/_split.py:672: UserWarning: The least populated class in y has only 1 members, which is less than n_splits=3.\n",
      "  % (min_groups, self.n_splits)), UserWarning)\n",
      "/opt/anaconda3/envs/bigdatalab_cpu_202101/lib/python3.7/site-packages/sklearn/model_selection/_split.py:672: UserWarning: The least populated class in y has only 1 members, which is less than n_splits=3.\n",
      "  % (min_groups, self.n_splits)), UserWarning)\n",
      "/opt/anaconda3/envs/bigdatalab_cpu_202101/lib/python3.7/site-packages/sklearn/model_selection/_split.py:672: UserWarning: The least populated class in y has only 1 members, which is less than n_splits=3.\n",
      "  % (min_groups, self.n_splits)), UserWarning)\n",
      "/opt/anaconda3/envs/bigdatalab_cpu_202101/lib/python3.7/site-packages/sklearn/model_selection/_split.py:672: UserWarning: The least populated class in y has only 1 members, which is less than n_splits=3.\n",
      "  % (min_groups, self.n_splits)), UserWarning)\n"
     ]
    },
    {
     "name": "stdout",
     "output_type": "stream",
     "text": [
      "Station: 64\n",
      "Station: 65\n",
      "Station: 66\n",
      "Station: 67\n",
      "Station: 68\n",
      "Station: 69\n",
      "Station: 70\n",
      "Station: 71\n",
      "Station: 72\n",
      "Station: 73\n",
      "Station: 74\n",
      "Station: 75\n"
     ]
    },
    {
     "name": "stderr",
     "output_type": "stream",
     "text": [
      "/opt/anaconda3/envs/bigdatalab_cpu_202101/lib/python3.7/site-packages/sklearn/model_selection/_split.py:672: UserWarning: The least populated class in y has only 1 members, which is less than n_splits=3.\n",
      "  % (min_groups, self.n_splits)), UserWarning)\n",
      "/opt/anaconda3/envs/bigdatalab_cpu_202101/lib/python3.7/site-packages/sklearn/model_selection/_split.py:672: UserWarning: The least populated class in y has only 1 members, which is less than n_splits=3.\n",
      "  % (min_groups, self.n_splits)), UserWarning)\n",
      "/opt/anaconda3/envs/bigdatalab_cpu_202101/lib/python3.7/site-packages/sklearn/model_selection/_split.py:672: UserWarning: The least populated class in y has only 1 members, which is less than n_splits=3.\n",
      "  % (min_groups, self.n_splits)), UserWarning)\n",
      "/opt/anaconda3/envs/bigdatalab_cpu_202101/lib/python3.7/site-packages/sklearn/model_selection/_split.py:672: UserWarning: The least populated class in y has only 1 members, which is less than n_splits=3.\n",
      "  % (min_groups, self.n_splits)), UserWarning)\n",
      "/opt/anaconda3/envs/bigdatalab_cpu_202101/lib/python3.7/site-packages/sklearn/model_selection/_split.py:672: UserWarning: The least populated class in y has only 1 members, which is less than n_splits=3.\n",
      "  % (min_groups, self.n_splits)), UserWarning)\n",
      "/opt/anaconda3/envs/bigdatalab_cpu_202101/lib/python3.7/site-packages/sklearn/model_selection/_split.py:672: UserWarning: The least populated class in y has only 1 members, which is less than n_splits=3.\n",
      "  % (min_groups, self.n_splits)), UserWarning)\n",
      "/opt/anaconda3/envs/bigdatalab_cpu_202101/lib/python3.7/site-packages/sklearn/model_selection/_split.py:672: UserWarning: The least populated class in y has only 1 members, which is less than n_splits=3.\n",
      "  % (min_groups, self.n_splits)), UserWarning)\n",
      "/opt/anaconda3/envs/bigdatalab_cpu_202101/lib/python3.7/site-packages/sklearn/model_selection/_split.py:672: UserWarning: The least populated class in y has only 1 members, which is less than n_splits=3.\n",
      "  % (min_groups, self.n_splits)), UserWarning)\n",
      "/opt/anaconda3/envs/bigdatalab_cpu_202101/lib/python3.7/site-packages/sklearn/model_selection/_split.py:672: UserWarning: The least populated class in y has only 1 members, which is less than n_splits=3.\n",
      "  % (min_groups, self.n_splits)), UserWarning)\n"
     ]
    },
    {
     "name": "stdout",
     "output_type": "stream",
     "text": [
      "Station: 76\n",
      "Station: 77\n",
      "Station: 82\n"
     ]
    }
   ],
   "source": [
    "for reference_station in San_Fancisco_stations:\n",
    "    train_df = pd.read_csv(f\"../../Datasets/{interval}_{window_width}/station{reference_station}{zone_str}_train.csv\")\n",
    "    print(f\"Station: {reference_station}\")   \n",
    "    y = train_df['status']\n",
    "    X = train_df.drop(columns=['status'])\n",
    "\n",
    "    for scoring in ['recall', 'precision', 'f1_score']:\n",
    "        for classifier in classifiers.keys():\n",
    "            \n",
    "            #I segunti controlli sono necessari in quanto richiamo, precisione e \n",
    "            # f1score hanno necessità di conoscere quale sia la classe positiva (QP)\n",
    "            if scoring == \"recall\":\n",
    "                scorer = make_scorer(recall_score, pos_label=\"QP\")\n",
    "            elif scoring == \"precision\":\n",
    "                scorer = make_scorer(precision_score, pos_label=\"QP\")\n",
    "            elif scoring == \"f1_score\":\n",
    "                scorer = make_scorer(f1_score, pos_label=\"QP\")\n",
    "            else:\n",
    "                scorer = scoring\n",
    "                \n",
    "            clf = classifiers[classifier]\n",
    "            parametrers = classifiers_parameters[classifier]\n",
    "            \n",
    "            grid_search = GridSearchCV(clf, parametrers, scoring=scorer, cv=3, n_jobs=-1)\n",
    "            search_result = grid_search.fit(X, y)\n",
    "            \n",
    "            params = search_result.best_params_\n",
    "            tuned_clf = search_result.best_estimator_\n",
    "            \n",
    "            #salvo il modello dopo il fine tuning\n",
    "            if not os.path.exists(f'../../Results/Other_classifiers/Tuned_models/{scoring}/{classifier}/{interval}_{window_width}'):\n",
    "                os.makedirs(f\"../../Results/Other_classifiers/Tuned_models/{scoring}/{classifier}/{interval}_{window_width}\")\n",
    "            dump(tuned_clf, f'../../Results/Other_classifiers/Tuned_models/{scoring}/{classifier}/{interval}_{window_width}/station{reference_station}{zone_str}_tuned_model.joblib')"
   ]
  },
  {
   "cell_type": "code",
   "execution_count": 7,
   "id": "parliamentary-algeria",
   "metadata": {},
   "outputs": [
    {
     "name": "stdout",
     "output_type": "stream",
     "text": [
      "11795\n"
     ]
    }
   ],
   "source": [
    "results_table = {}\n",
    "\n",
    "for scoring in [\"recall\", \"precision\", \"f1_score\"]:\n",
    "    result_matrix = []\n",
    "    for classifier in classifiers.keys():\n",
    "        file = open(f'../../Results/Other_classifiers/Tuned_models/{scoring}/{classifier}_{interval}_{window_width}{zone_str}_results.txt', \"w\")\n",
    "        file.write(f'TESING RESULTS FOR {classifier} CLASSIFIER:\\n\\n')\n",
    "        tot_fp = 0\n",
    "        tot_tp = 0\n",
    "        tot_fn = 0\n",
    "        tot_tn = 0\n",
    "\n",
    "        for station_id in San_Fancisco_stations:\n",
    "            model = load(f'../../Results/Other_classifiers/Tuned_models/{scoring}/{classifier}/{interval}_{window_width}/station{station_id}{zone_str}_tuned_model.joblib')\n",
    "\n",
    "            test_df = pd.read_csv(f'../../Datasets/{interval}_{window_width}/station{station_id}{zone_str}_test.csv')\n",
    "            y_test = test_df[3:]['status']\n",
    "            X_test = test_df[3:].drop(columns=['status'])    \n",
    "\n",
    "            prediction = model.predict(X_test)\n",
    "            \n",
    "            cm = confusion_matrix(y_test, prediction, labels=['N', 'QP'])\n",
    "\n",
    "            str_= f'{classifier} FOR STATION {station_id}' + '\\n'\n",
    "            str_ += f'Confusion matrix:' + '\\n'\n",
    "            str_ += str(cm) + '\\n'\n",
    "\n",
    "            tn, fp, fn, tp = cm.ravel()\n",
    "            str_+= f'tp={tp}, fn={fn}, fp={fp}, tn={tn}' +'\\n'\n",
    "\n",
    "            test_accuracy = (tn + tp) / (tn + fp + fn + tp)\n",
    "            test_recall = recall_score(y_test, prediction, pos_label='QP', zero_division=0)\n",
    "            test_precision = precision_score(y_test, prediction, pos_label='QP', zero_division=0)\n",
    "            test_f1_score = f1_score(y_test, prediction, pos_label='QP', zero_division=0)\n",
    "\n",
    "            str_+= f'accuracy={test_accuracy}; recall={test_recall}; precision={test_precision}; f1_score= {test_f1_score}' +'\\n\\n'\n",
    "            str_+= \"-\"*10 +'\\n\\n'\n",
    "\n",
    "            tot_fp += fp\n",
    "            tot_tp += tp\n",
    "            tot_fn += fn\n",
    "            tot_tn += tn\n",
    "\n",
    "            file.write(str_)\n",
    "\n",
    "        avg_accuracy = (tot_tn + tot_tp) / (tot_tn + tot_fp + tot_fn + tot_tp)\n",
    "        avg_recall = (tot_tp) / (tot_tp + tot_fn)\n",
    "        avg_precision = (tot_tp) / (tot_tp + tot_fp)\n",
    "        avg_f1_score = 2*avg_precision*avg_recall/(avg_precision+avg_recall)\n",
    "        \n",
    "        result_matrix.append([avg_accuracy, avg_recall, avg_precision, avg_f1_score])\n",
    "        avg_str = f\"AVERAGE VALUES FOR {classifier}: accuracy={avg_accuracy}; recall={avg_recall}; precision={avg_precision}; f1_score={avg_f1_score}\"\n",
    "\n",
    "        file.write(f\"Overall results:\\nTP:{tot_tp},TN:{tot_tn},FP:{tot_fp},FN:{tot_fn}\\n\")\n",
    "        file.write(avg_str)\n",
    "        file.close()\n",
    "    \n",
    "    result_table = pd.DataFrame(result_matrix, columns=['avg_accuracy', 'avg_recall', 'avg_precision', 'avg_f1_score'], index=pd.Index(classifiers.keys()))\n",
    "    results_table[scoring] = result_table\n",
    "    result_table.to_csv(f\"../../Results/Other_classifiers/Tuned_models/{scoring}/Overall_results_{interval}_{window_width}{zone_str}.csv\")\n",
    "print(tot_fp+tot_tp+tot_fn+tot_tn)"
   ]
  }
 ],
 "metadata": {
  "kernelspec": {
   "display_name": "Python 3",
   "language": "python",
   "name": "python3"
  },
  "language_info": {
   "codemirror_mode": {
    "name": "ipython",
    "version": 3
   },
   "file_extension": ".py",
   "mimetype": "text/x-python",
   "name": "python",
   "nbconvert_exporter": "python",
   "pygments_lexer": "ipython3",
   "version": "3.7.9"
  }
 },
 "nbformat": 4,
 "nbformat_minor": 5
}
